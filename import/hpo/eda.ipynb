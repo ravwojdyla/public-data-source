{
 "cells": [
  {
   "cell_type": "markdown",
   "metadata": {},
   "source": [
    "## HPO Raw Data EDA"
   ]
  },
  {
   "cell_type": "code",
   "execution_count": 1,
   "metadata": {},
   "outputs": [],
   "source": [
    "import pandas as pd"
   ]
  },
  {
   "cell_type": "code",
   "execution_count": 2,
   "metadata": {},
   "outputs": [
    {
     "name": "stdout",
     "output_type": "stream",
     "text": [
      "--2020-06-17 19:36:59--  http://compbio.charite.de/jenkins/job/hpo.annotations/lastSuccessfulBuild/artifact/util/annotation/genes_to_phenotype.txt\n",
      "Resolving compbio.charite.de (compbio.charite.de)... 141.42.207.15\n",
      "Connecting to compbio.charite.de (compbio.charite.de)|141.42.207.15|:80... connected.\n",
      "HTTP request sent, awaiting response... 200 OK\n",
      "Length: 14433494 (14M) [text/plain]\n",
      "Saving to: ‘/tmp/genes_to_phenotype.txt’\n",
      "\n",
      "genes_to_phenotype. 100%[===================>]  13.76M  2.87MB/s    in 8.3s    \n",
      "\n",
      "2020-06-17 19:37:08 (1.67 MB/s) - ‘/tmp/genes_to_phenotype.txt’ saved [14433494/14433494]\n",
      "\n"
     ]
    }
   ],
   "source": [
    "!wget -P /tmp http://compbio.charite.de/jenkins/job/hpo.annotations/lastSuccessfulBuild/artifact/util/annotation/genes_to_phenotype.txt"
   ]
  },
  {
   "cell_type": "code",
   "execution_count": 3,
   "metadata": {},
   "outputs": [],
   "source": [
    "path = '/tmp/genes_to_phenotype.txt'"
   ]
  },
  {
   "cell_type": "code",
   "execution_count": 16,
   "metadata": {},
   "outputs": [
    {
     "name": "stdout",
     "output_type": "stream",
     "text": [
      "#Format: entrez-gene-id<tab>entrez-gene-symbol<tab>HPO-Term-Name<tab>HPO-Term-ID<tab>Frequency-Raw<tab>Frequency-HPO<tab>Additional Info from G-D source<tab>G-D source<tab>disease-ID for link\n",
      "8192\tCLPP\tHP:0000786\tPrimary amenorrhea\t\t\t-\tmim2gene\tOMIM:614129\n"
     ]
    }
   ],
   "source": [
    "!head -n 2 $path"
   ]
  },
  {
   "cell_type": "code",
   "execution_count": 59,
   "metadata": {},
   "outputs": [
    {
     "data": {
      "text/plain": [
       "['entrez-gene-id',\n",
       " 'entrez-gene-symbol',\n",
       " 'HPO-Term-Name',\n",
       " 'HPO-Term-ID',\n",
       " 'Frequency-Raw',\n",
       " 'Frequency-HPO',\n",
       " 'Additional Info from G-D source',\n",
       " 'G-D source',\n",
       " 'disease-ID for link']"
      ]
     },
     "execution_count": 59,
     "metadata": {},
     "output_type": "execute_result"
    }
   ],
   "source": [
    "cols"
   ]
  },
  {
   "cell_type": "code",
   "execution_count": 24,
   "metadata": {},
   "outputs": [
    {
     "data": {
      "text/html": [
       "<div>\n",
       "<style scoped>\n",
       "    .dataframe tbody tr th:only-of-type {\n",
       "        vertical-align: middle;\n",
       "    }\n",
       "\n",
       "    .dataframe tbody tr th {\n",
       "        vertical-align: top;\n",
       "    }\n",
       "\n",
       "    .dataframe thead th {\n",
       "        text-align: right;\n",
       "    }\n",
       "</style>\n",
       "<table border=\"1\" class=\"dataframe\">\n",
       "  <thead>\n",
       "    <tr style=\"text-align: right;\">\n",
       "      <th></th>\n",
       "      <th>entrez-gene-id</th>\n",
       "      <th>entrez-gene-symbol</th>\n",
       "      <th>HPO-Term-Name</th>\n",
       "      <th>HPO-Term-ID</th>\n",
       "      <th>Frequency-Raw</th>\n",
       "      <th>Frequency-HPO</th>\n",
       "      <th>Additional Info from G-D source</th>\n",
       "      <th>G-D source</th>\n",
       "      <th>disease-ID for link</th>\n",
       "    </tr>\n",
       "  </thead>\n",
       "  <tbody>\n",
       "    <tr>\n",
       "      <th>0</th>\n",
       "      <td>8192</td>\n",
       "      <td>CLPP</td>\n",
       "      <td>HP:0000786</td>\n",
       "      <td>Primary amenorrhea</td>\n",
       "      <td>NaN</td>\n",
       "      <td>NaN</td>\n",
       "      <td>-</td>\n",
       "      <td>mim2gene</td>\n",
       "      <td>OMIM:614129</td>\n",
       "    </tr>\n",
       "    <tr>\n",
       "      <th>1</th>\n",
       "      <td>8192</td>\n",
       "      <td>CLPP</td>\n",
       "      <td>HP:0000013</td>\n",
       "      <td>Hypoplasia of the uterus</td>\n",
       "      <td>NaN</td>\n",
       "      <td>NaN</td>\n",
       "      <td>-</td>\n",
       "      <td>mim2gene</td>\n",
       "      <td>OMIM:614129</td>\n",
       "    </tr>\n",
       "    <tr>\n",
       "      <th>2</th>\n",
       "      <td>8192</td>\n",
       "      <td>CLPP</td>\n",
       "      <td>HP:0001250</td>\n",
       "      <td>Seizure</td>\n",
       "      <td>NaN</td>\n",
       "      <td>HP:0040283</td>\n",
       "      <td>-</td>\n",
       "      <td>mim2gene</td>\n",
       "      <td>OMIM:614129</td>\n",
       "    </tr>\n",
       "    <tr>\n",
       "      <th>3</th>\n",
       "      <td>8192</td>\n",
       "      <td>CLPP</td>\n",
       "      <td>HP:0000007</td>\n",
       "      <td>Autosomal recessive inheritance</td>\n",
       "      <td>NaN</td>\n",
       "      <td>NaN</td>\n",
       "      <td>-</td>\n",
       "      <td>mim2gene</td>\n",
       "      <td>OMIM:614129</td>\n",
       "    </tr>\n",
       "    <tr>\n",
       "      <th>4</th>\n",
       "      <td>8192</td>\n",
       "      <td>CLPP</td>\n",
       "      <td>HP:0004322</td>\n",
       "      <td>Short stature</td>\n",
       "      <td>NaN</td>\n",
       "      <td>HP:0040283</td>\n",
       "      <td>-</td>\n",
       "      <td>mim2gene</td>\n",
       "      <td>OMIM:614129</td>\n",
       "    </tr>\n",
       "  </tbody>\n",
       "</table>\n",
       "</div>"
      ],
      "text/plain": [
       "   entrez-gene-id entrez-gene-symbol HPO-Term-Name  \\\n",
       "0            8192               CLPP    HP:0000786   \n",
       "1            8192               CLPP    HP:0000013   \n",
       "2            8192               CLPP    HP:0001250   \n",
       "3            8192               CLPP    HP:0000007   \n",
       "4            8192               CLPP    HP:0004322   \n",
       "\n",
       "                       HPO-Term-ID Frequency-Raw Frequency-HPO  \\\n",
       "0               Primary amenorrhea           NaN           NaN   \n",
       "1         Hypoplasia of the uterus           NaN           NaN   \n",
       "2                          Seizure           NaN    HP:0040283   \n",
       "3  Autosomal recessive inheritance           NaN           NaN   \n",
       "4                    Short stature           NaN    HP:0040283   \n",
       "\n",
       "  Additional Info from G-D source G-D source disease-ID for link  \n",
       "0                               -   mim2gene         OMIM:614129  \n",
       "1                               -   mim2gene         OMIM:614129  \n",
       "2                               -   mim2gene         OMIM:614129  \n",
       "3                               -   mim2gene         OMIM:614129  \n",
       "4                               -   mim2gene         OMIM:614129  "
      ]
     },
     "execution_count": 24,
     "metadata": {},
     "output_type": "execute_result"
    }
   ],
   "source": [
    "cols = !head -n 1 $path | cut -d' ' -f 2- |  sed -e 's/<tab>/,/g'\n",
    "cols = cols[0].split(',')\n",
    "df = pd.read_csv(path, sep='\\t', names=cols, skiprows=1, header=None)\n",
    "df.head()"
   ]
  },
  {
   "cell_type": "code",
   "execution_count": 58,
   "metadata": {},
   "outputs": [
    {
     "data": {
      "text/plain": [
       "1    7317\n",
       "Name: terms, dtype: int64"
      ]
     },
     "execution_count": 58,
     "metadata": {},
     "output_type": "execute_result"
    }
   ],
   "source": [
    "# ALL HPO terms are simply repeated for each gene that is associated with a disease\n",
    "(\n",
    "    df\n",
    "    .groupby(['disease-ID for link', 'entrez-gene-id'])\n",
    "    .apply(lambda g: ','.join(list(sorted(g['HPO-Term-Name'].unique()))))\n",
    "    .rename('terms')\n",
    "    .reset_index()\n",
    "    .groupby('disease-ID for link')['terms'].nunique().value_counts()\n",
    ")"
   ]
  },
  {
   "cell_type": "markdown",
   "metadata": {},
   "source": [
    "### Terms related to inheritance mode"
   ]
  },
  {
   "cell_type": "code",
   "execution_count": 62,
   "metadata": {},
   "outputs": [
    {
     "data": {
      "text/plain": [
       "Autosomal recessive inheritance                            3063\n",
       "Autosomal dominant inheritance                             2551\n",
       "X-linked recessive inheritance                              230\n",
       "X-linked dominant inheritance                                75\n",
       "X-linked inheritance                                         72\n",
       "Mitochondrial inheritance                                    56\n",
       "Multifactorial inheritance                                   39\n",
       "Polygenic inheritance                                        32\n",
       "Y-linked inheritance                                         18\n",
       "Digenic inheritance                                           8\n",
       "Autosomal dominant inheritance with maternal imprinting       2\n",
       "Oligogenic inheritance                                        1\n",
       "Name: HPO-Term-ID, dtype: int64"
      ]
     },
     "execution_count": 62,
     "metadata": {},
     "output_type": "execute_result"
    }
   ],
   "source": [
    "df[df['HPO-Term-ID'].str.lower().str.contains('inheritance')]['HPO-Term-ID'].value_counts()"
   ]
  },
  {
   "cell_type": "code",
   "execution_count": 28,
   "metadata": {},
   "outputs": [
    {
     "data": {
      "text/html": [
       "<div>\n",
       "<style scoped>\n",
       "    .dataframe tbody tr th:only-of-type {\n",
       "        vertical-align: middle;\n",
       "    }\n",
       "\n",
       "    .dataframe tbody tr th {\n",
       "        vertical-align: top;\n",
       "    }\n",
       "\n",
       "    .dataframe thead th {\n",
       "        text-align: right;\n",
       "    }\n",
       "</style>\n",
       "<table border=\"1\" class=\"dataframe\">\n",
       "  <thead>\n",
       "    <tr style=\"text-align: right;\">\n",
       "      <th></th>\n",
       "      <th>entrez-gene-id</th>\n",
       "      <th>entrez-gene-symbol</th>\n",
       "      <th>HPO-Term-Name</th>\n",
       "      <th>HPO-Term-ID</th>\n",
       "      <th>Frequency-Raw</th>\n",
       "      <th>Frequency-HPO</th>\n",
       "      <th>Additional Info from G-D source</th>\n",
       "      <th>G-D source</th>\n",
       "      <th>disease-ID for link</th>\n",
       "    </tr>\n",
       "  </thead>\n",
       "  <tbody>\n",
       "    <tr>\n",
       "      <th>3</th>\n",
       "      <td>8192</td>\n",
       "      <td>CLPP</td>\n",
       "      <td>HP:0000007</td>\n",
       "      <td>Autosomal recessive inheritance</td>\n",
       "      <td>NaN</td>\n",
       "      <td>NaN</td>\n",
       "      <td>-</td>\n",
       "      <td>mim2gene</td>\n",
       "      <td>OMIM:614129</td>\n",
       "    </tr>\n",
       "    <tr>\n",
       "      <th>8</th>\n",
       "      <td>2</td>\n",
       "      <td>A2M</td>\n",
       "      <td>HP:0000006</td>\n",
       "      <td>Autosomal dominant inheritance</td>\n",
       "      <td>NaN</td>\n",
       "      <td>NaN</td>\n",
       "      <td>susceptibility</td>\n",
       "      <td>mim2gene</td>\n",
       "      <td>OMIM:104300</td>\n",
       "    </tr>\n",
       "    <tr>\n",
       "      <th>59</th>\n",
       "      <td>8195</td>\n",
       "      <td>MKKS</td>\n",
       "      <td>HP:0000007</td>\n",
       "      <td>Autosomal recessive inheritance</td>\n",
       "      <td>NaN</td>\n",
       "      <td>NaN</td>\n",
       "      <td>-</td>\n",
       "      <td>mim2gene</td>\n",
       "      <td>OMIM:236700</td>\n",
       "    </tr>\n",
       "    <tr>\n",
       "      <th>69</th>\n",
       "      <td>8195</td>\n",
       "      <td>MKKS</td>\n",
       "      <td>HP:0000007</td>\n",
       "      <td>Autosomal recessive inheritance</td>\n",
       "      <td>NaN</td>\n",
       "      <td>NaN</td>\n",
       "      <td>-</td>\n",
       "      <td>mim2gene</td>\n",
       "      <td>OMIM:605231</td>\n",
       "    </tr>\n",
       "    <tr>\n",
       "      <th>140</th>\n",
       "      <td>8200</td>\n",
       "      <td>GDF5</td>\n",
       "      <td>HP:0000006</td>\n",
       "      <td>Autosomal dominant inheritance</td>\n",
       "      <td>NaN</td>\n",
       "      <td>NaN</td>\n",
       "      <td>-</td>\n",
       "      <td>mim2gene</td>\n",
       "      <td>OMIM:113100</td>\n",
       "    </tr>\n",
       "  </tbody>\n",
       "</table>\n",
       "</div>"
      ],
      "text/plain": [
       "     entrez-gene-id entrez-gene-symbol HPO-Term-Name  \\\n",
       "3              8192               CLPP    HP:0000007   \n",
       "8                 2                A2M    HP:0000006   \n",
       "59             8195               MKKS    HP:0000007   \n",
       "69             8195               MKKS    HP:0000007   \n",
       "140            8200               GDF5    HP:0000006   \n",
       "\n",
       "                         HPO-Term-ID Frequency-Raw Frequency-HPO  \\\n",
       "3    Autosomal recessive inheritance           NaN           NaN   \n",
       "8     Autosomal dominant inheritance           NaN           NaN   \n",
       "59   Autosomal recessive inheritance           NaN           NaN   \n",
       "69   Autosomal recessive inheritance           NaN           NaN   \n",
       "140   Autosomal dominant inheritance           NaN           NaN   \n",
       "\n",
       "    Additional Info from G-D source G-D source disease-ID for link  \n",
       "3                                 -   mim2gene         OMIM:614129  \n",
       "8                    susceptibility   mim2gene         OMIM:104300  \n",
       "59                                -   mim2gene         OMIM:236700  \n",
       "69                                -   mim2gene         OMIM:605231  \n",
       "140                               -   mim2gene         OMIM:113100  "
      ]
     },
     "execution_count": 28,
     "metadata": {},
     "output_type": "execute_result"
    }
   ],
   "source": [
    "dff = df[\n",
    "    df['HPO-Term-ID'].str.lower().str.contains('dominant') |\n",
    "    df['HPO-Term-ID'].str.lower().str.contains('recessive')\n",
    "]\n",
    "dff.head()"
   ]
  },
  {
   "cell_type": "markdown",
   "metadata": {},
   "source": [
    "### Inheritance mode count by gene"
   ]
  },
  {
   "cell_type": "code",
   "execution_count": 40,
   "metadata": {},
   "outputs": [
    {
     "data": {
      "text/plain": [
       "1    3250\n",
       "2     610\n",
       "3      17\n",
       "Name: HPO-Term-Name, dtype: int64"
      ]
     },
     "execution_count": 40,
     "metadata": {},
     "output_type": "execute_result"
    }
   ],
   "source": [
    "cts = dff.groupby('entrez-gene-id')['HPO-Term-Name'].nunique()\n",
    "cts.value_counts()"
   ]
  },
  {
   "cell_type": "code",
   "execution_count": 41,
   "metadata": {},
   "outputs": [
    {
     "data": {
      "text/plain": [
       "entrez-gene-id\n",
       "5148     3\n",
       "23746    3\n",
       "2516     3\n",
       "1259     3\n",
       "1406     3\n",
       "Name: HPO-Term-Name, dtype: int64"
      ]
     },
     "execution_count": 41,
     "metadata": {},
     "output_type": "execute_result"
    }
   ],
   "source": [
    "cts.sort_values().tail()"
   ]
  },
  {
   "cell_type": "code",
   "execution_count": 34,
   "metadata": {},
   "outputs": [
    {
     "data": {
      "text/plain": [
       "entrez-gene-id\n",
       "16     2\n",
       "19     2\n",
       "58     2\n",
       "60     2\n",
       "103    2\n",
       "Name: HPO-Term-Name, dtype: int64"
      ]
     },
     "execution_count": 34,
     "metadata": {},
     "output_type": "execute_result"
    }
   ],
   "source": [
    "cts[cts == 2].head()"
   ]
  },
  {
   "cell_type": "code",
   "execution_count": 35,
   "metadata": {},
   "outputs": [
    {
     "data": {
      "text/html": [
       "<div>\n",
       "<style scoped>\n",
       "    .dataframe tbody tr th:only-of-type {\n",
       "        vertical-align: middle;\n",
       "    }\n",
       "\n",
       "    .dataframe tbody tr th {\n",
       "        vertical-align: top;\n",
       "    }\n",
       "\n",
       "    .dataframe thead th {\n",
       "        text-align: right;\n",
       "    }\n",
       "</style>\n",
       "<table border=\"1\" class=\"dataframe\">\n",
       "  <thead>\n",
       "    <tr style=\"text-align: right;\">\n",
       "      <th></th>\n",
       "      <th>entrez-gene-id</th>\n",
       "      <th>entrez-gene-symbol</th>\n",
       "      <th>HPO-Term-Name</th>\n",
       "      <th>HPO-Term-ID</th>\n",
       "      <th>Frequency-Raw</th>\n",
       "      <th>Frequency-HPO</th>\n",
       "      <th>Additional Info from G-D source</th>\n",
       "      <th>G-D source</th>\n",
       "      <th>disease-ID for link</th>\n",
       "    </tr>\n",
       "  </thead>\n",
       "  <tbody>\n",
       "    <tr>\n",
       "      <th>425</th>\n",
       "      <td>16</td>\n",
       "      <td>AARS1</td>\n",
       "      <td>HP:0000007</td>\n",
       "      <td>Autosomal recessive inheritance</td>\n",
       "      <td>NaN</td>\n",
       "      <td>NaN</td>\n",
       "      <td>-</td>\n",
       "      <td>mim2gene</td>\n",
       "      <td>OMIM:616339</td>\n",
       "    </tr>\n",
       "    <tr>\n",
       "      <th>429</th>\n",
       "      <td>16</td>\n",
       "      <td>AARS1</td>\n",
       "      <td>HP:0000006</td>\n",
       "      <td>Autosomal dominant inheritance</td>\n",
       "      <td>NaN</td>\n",
       "      <td>NaN</td>\n",
       "      <td>-</td>\n",
       "      <td>mim2gene</td>\n",
       "      <td>OMIM:613287</td>\n",
       "    </tr>\n",
       "  </tbody>\n",
       "</table>\n",
       "</div>"
      ],
      "text/plain": [
       "     entrez-gene-id entrez-gene-symbol HPO-Term-Name  \\\n",
       "425              16              AARS1    HP:0000007   \n",
       "429              16              AARS1    HP:0000006   \n",
       "\n",
       "                         HPO-Term-ID Frequency-Raw Frequency-HPO  \\\n",
       "425  Autosomal recessive inheritance           NaN           NaN   \n",
       "429   Autosomal dominant inheritance           NaN           NaN   \n",
       "\n",
       "    Additional Info from G-D source G-D source disease-ID for link  \n",
       "425                               -   mim2gene         OMIM:616339  \n",
       "429                               -   mim2gene         OMIM:613287  "
      ]
     },
     "execution_count": 35,
     "metadata": {},
     "output_type": "execute_result"
    }
   ],
   "source": [
    "dff[dff['entrez-gene-id'] == 16]"
   ]
  },
  {
   "cell_type": "code",
   "execution_count": 36,
   "metadata": {},
   "outputs": [
    {
     "data": {
      "text/html": [
       "<div>\n",
       "<style scoped>\n",
       "    .dataframe tbody tr th:only-of-type {\n",
       "        vertical-align: middle;\n",
       "    }\n",
       "\n",
       "    .dataframe tbody tr th {\n",
       "        vertical-align: top;\n",
       "    }\n",
       "\n",
       "    .dataframe thead th {\n",
       "        text-align: right;\n",
       "    }\n",
       "</style>\n",
       "<table border=\"1\" class=\"dataframe\">\n",
       "  <thead>\n",
       "    <tr style=\"text-align: right;\">\n",
       "      <th></th>\n",
       "      <th>entrez-gene-id</th>\n",
       "      <th>entrez-gene-symbol</th>\n",
       "      <th>HPO-Term-Name</th>\n",
       "      <th>HPO-Term-ID</th>\n",
       "      <th>Frequency-Raw</th>\n",
       "      <th>Frequency-HPO</th>\n",
       "      <th>Additional Info from G-D source</th>\n",
       "      <th>G-D source</th>\n",
       "      <th>disease-ID for link</th>\n",
       "    </tr>\n",
       "  </thead>\n",
       "  <tbody>\n",
       "    <tr>\n",
       "      <th>462</th>\n",
       "      <td>19</td>\n",
       "      <td>ABCA1</td>\n",
       "      <td>HP:0000007</td>\n",
       "      <td>Autosomal recessive inheritance</td>\n",
       "      <td>NaN</td>\n",
       "      <td>NaN</td>\n",
       "      <td>-</td>\n",
       "      <td>mim2gene</td>\n",
       "      <td>OMIM:205400</td>\n",
       "    </tr>\n",
       "    <tr>\n",
       "      <th>478</th>\n",
       "      <td>19</td>\n",
       "      <td>ABCA1</td>\n",
       "      <td>HP:0000006</td>\n",
       "      <td>Autosomal dominant inheritance</td>\n",
       "      <td>NaN</td>\n",
       "      <td>NaN</td>\n",
       "      <td>-</td>\n",
       "      <td>mim2gene</td>\n",
       "      <td>OMIM:604091</td>\n",
       "    </tr>\n",
       "  </tbody>\n",
       "</table>\n",
       "</div>"
      ],
      "text/plain": [
       "     entrez-gene-id entrez-gene-symbol HPO-Term-Name  \\\n",
       "462              19              ABCA1    HP:0000007   \n",
       "478              19              ABCA1    HP:0000006   \n",
       "\n",
       "                         HPO-Term-ID Frequency-Raw Frequency-HPO  \\\n",
       "462  Autosomal recessive inheritance           NaN           NaN   \n",
       "478   Autosomal dominant inheritance           NaN           NaN   \n",
       "\n",
       "    Additional Info from G-D source G-D source disease-ID for link  \n",
       "462                               -   mim2gene         OMIM:205400  \n",
       "478                               -   mim2gene         OMIM:604091  "
      ]
     },
     "execution_count": 36,
     "metadata": {},
     "output_type": "execute_result"
    }
   ],
   "source": [
    "dff[dff['entrez-gene-id'] == 19]"
   ]
  },
  {
   "cell_type": "code",
   "execution_count": 33,
   "metadata": {},
   "outputs": [
    {
     "data": {
      "text/html": [
       "<div>\n",
       "<style scoped>\n",
       "    .dataframe tbody tr th:only-of-type {\n",
       "        vertical-align: middle;\n",
       "    }\n",
       "\n",
       "    .dataframe tbody tr th {\n",
       "        vertical-align: top;\n",
       "    }\n",
       "\n",
       "    .dataframe thead th {\n",
       "        text-align: right;\n",
       "    }\n",
       "</style>\n",
       "<table border=\"1\" class=\"dataframe\">\n",
       "  <thead>\n",
       "    <tr style=\"text-align: right;\">\n",
       "      <th></th>\n",
       "      <th>entrez-gene-id</th>\n",
       "      <th>entrez-gene-symbol</th>\n",
       "      <th>HPO-Term-Name</th>\n",
       "      <th>HPO-Term-ID</th>\n",
       "      <th>Frequency-Raw</th>\n",
       "      <th>Frequency-HPO</th>\n",
       "      <th>Additional Info from G-D source</th>\n",
       "      <th>G-D source</th>\n",
       "      <th>disease-ID for link</th>\n",
       "    </tr>\n",
       "  </thead>\n",
       "  <tbody>\n",
       "    <tr>\n",
       "      <th>128908</th>\n",
       "      <td>5148</td>\n",
       "      <td>PDE6G</td>\n",
       "      <td>HP:0000007</td>\n",
       "      <td>Autosomal recessive inheritance</td>\n",
       "      <td>NaN</td>\n",
       "      <td>NaN</td>\n",
       "      <td>-</td>\n",
       "      <td>mim2gene</td>\n",
       "      <td>OMIM:268000</td>\n",
       "    </tr>\n",
       "    <tr>\n",
       "      <th>128910</th>\n",
       "      <td>5148</td>\n",
       "      <td>PDE6G</td>\n",
       "      <td>HP:0001419</td>\n",
       "      <td>X-linked recessive inheritance</td>\n",
       "      <td>NaN</td>\n",
       "      <td>NaN</td>\n",
       "      <td>-</td>\n",
       "      <td>mim2gene</td>\n",
       "      <td>OMIM:268000</td>\n",
       "    </tr>\n",
       "    <tr>\n",
       "      <th>128912</th>\n",
       "      <td>5148</td>\n",
       "      <td>PDE6G</td>\n",
       "      <td>HP:0000006</td>\n",
       "      <td>Autosomal dominant inheritance</td>\n",
       "      <td>NaN</td>\n",
       "      <td>NaN</td>\n",
       "      <td>-</td>\n",
       "      <td>mim2gene</td>\n",
       "      <td>OMIM:268000</td>\n",
       "    </tr>\n",
       "    <tr>\n",
       "      <th>128916</th>\n",
       "      <td>5148</td>\n",
       "      <td>PDE6G</td>\n",
       "      <td>HP:0000007</td>\n",
       "      <td>Autosomal recessive inheritance</td>\n",
       "      <td>NaN</td>\n",
       "      <td>NaN</td>\n",
       "      <td>-</td>\n",
       "      <td>mim2gene</td>\n",
       "      <td>OMIM:613582</td>\n",
       "    </tr>\n",
       "  </tbody>\n",
       "</table>\n",
       "</div>"
      ],
      "text/plain": [
       "        entrez-gene-id entrez-gene-symbol HPO-Term-Name  \\\n",
       "128908            5148              PDE6G    HP:0000007   \n",
       "128910            5148              PDE6G    HP:0001419   \n",
       "128912            5148              PDE6G    HP:0000006   \n",
       "128916            5148              PDE6G    HP:0000007   \n",
       "\n",
       "                            HPO-Term-ID Frequency-Raw Frequency-HPO  \\\n",
       "128908  Autosomal recessive inheritance           NaN           NaN   \n",
       "128910   X-linked recessive inheritance           NaN           NaN   \n",
       "128912   Autosomal dominant inheritance           NaN           NaN   \n",
       "128916  Autosomal recessive inheritance           NaN           NaN   \n",
       "\n",
       "       Additional Info from G-D source G-D source disease-ID for link  \n",
       "128908                               -   mim2gene         OMIM:268000  \n",
       "128910                               -   mim2gene         OMIM:268000  \n",
       "128912                               -   mim2gene         OMIM:268000  \n",
       "128916                               -   mim2gene         OMIM:613582  "
      ]
     },
     "execution_count": 33,
     "metadata": {},
     "output_type": "execute_result"
    }
   ],
   "source": [
    "dff[dff['entrez-gene-id'] == 5148]"
   ]
  },
  {
   "cell_type": "markdown",
   "metadata": {},
   "source": [
    "### Inheritance mode count by disease"
   ]
  },
  {
   "cell_type": "code",
   "execution_count": 37,
   "metadata": {},
   "outputs": [
    {
     "data": {
      "text/plain": [
       "1    4762\n",
       "2     239\n",
       "3       3\n",
       "Name: HPO-Term-Name, dtype: int64"
      ]
     },
     "execution_count": 37,
     "metadata": {},
     "output_type": "execute_result"
    }
   ],
   "source": [
    "cts = dff.groupby('disease-ID for link')['HPO-Term-Name'].nunique()\n",
    "cts.value_counts()"
   ]
  },
  {
   "cell_type": "code",
   "execution_count": 39,
   "metadata": {},
   "outputs": [
    {
     "data": {
      "text/plain": [
       "disease-ID for link\n",
       "OMIM:105400    2\n",
       "OMIM:106100    2\n",
       "OMIM:107600    2\n",
       "OMIM:113750    2\n",
       "OMIM:113800    2\n",
       "Name: HPO-Term-Name, dtype: int64"
      ]
     },
     "execution_count": 39,
     "metadata": {},
     "output_type": "execute_result"
    }
   ],
   "source": [
    "cts[cts == 2].head()"
   ]
  },
  {
   "cell_type": "markdown",
   "metadata": {},
   "source": [
    "Diseases with multiple genes and different inheritance patterns amongst those genes:"
   ]
  },
  {
   "cell_type": "code",
   "execution_count": 46,
   "metadata": {},
   "outputs": [
    {
     "data": {
      "text/plain": [
       "disease-ID for link\n",
       "OMIM:149400    2\n",
       "OMIM:240500    2\n",
       "OMIM:606176    2\n",
       "OMIM:176100    2\n",
       "OMIM:268000    3\n",
       "Name: HPO-Term-Name, dtype: int64"
      ]
     },
     "execution_count": 46,
     "metadata": {},
     "output_type": "execute_result"
    }
   ],
   "source": [
    "cts = dff.groupby('disease-ID for link')['entrez-gene-id'].nunique()\n",
    "diseases = cts[cts > 1].index.values\n",
    "cts = dff.pipe(lambda df: df[df['disease-ID for link'].isin(diseases)]).groupby('disease-ID for link')['HPO-Term-Name'].nunique()\n",
    "cts.sort_values().tail()"
   ]
  },
  {
   "cell_type": "code",
   "execution_count": 48,
   "metadata": {},
   "outputs": [
    {
     "data": {
      "text/html": [
       "<div>\n",
       "<style scoped>\n",
       "    .dataframe tbody tr th:only-of-type {\n",
       "        vertical-align: middle;\n",
       "    }\n",
       "\n",
       "    .dataframe tbody tr th {\n",
       "        vertical-align: top;\n",
       "    }\n",
       "\n",
       "    .dataframe thead th {\n",
       "        text-align: right;\n",
       "    }\n",
       "</style>\n",
       "<table border=\"1\" class=\"dataframe\">\n",
       "  <thead>\n",
       "    <tr style=\"text-align: right;\">\n",
       "      <th></th>\n",
       "      <th>entrez-gene-id</th>\n",
       "      <th>entrez-gene-symbol</th>\n",
       "      <th>HPO-Term-Name</th>\n",
       "      <th>HPO-Term-ID</th>\n",
       "      <th>Frequency-Raw</th>\n",
       "      <th>Frequency-HPO</th>\n",
       "      <th>Additional Info from G-D source</th>\n",
       "      <th>G-D source</th>\n",
       "      <th>disease-ID for link</th>\n",
       "    </tr>\n",
       "  </thead>\n",
       "  <tbody>\n",
       "    <tr>\n",
       "      <th>82757</th>\n",
       "      <td>2645</td>\n",
       "      <td>GCK</td>\n",
       "      <td>HP:0000006</td>\n",
       "      <td>Autosomal dominant inheritance</td>\n",
       "      <td>NaN</td>\n",
       "      <td>NaN</td>\n",
       "      <td>-</td>\n",
       "      <td>mim2gene</td>\n",
       "      <td>OMIM:606176</td>\n",
       "    </tr>\n",
       "    <tr>\n",
       "      <th>82771</th>\n",
       "      <td>2645</td>\n",
       "      <td>GCK</td>\n",
       "      <td>HP:0000007</td>\n",
       "      <td>Autosomal recessive inheritance</td>\n",
       "      <td>NaN</td>\n",
       "      <td>NaN</td>\n",
       "      <td>-</td>\n",
       "      <td>mim2gene</td>\n",
       "      <td>OMIM:606176</td>\n",
       "    </tr>\n",
       "    <tr>\n",
       "      <th>101128</th>\n",
       "      <td>3630</td>\n",
       "      <td>INS</td>\n",
       "      <td>HP:0000006</td>\n",
       "      <td>Autosomal dominant inheritance</td>\n",
       "      <td>NaN</td>\n",
       "      <td>NaN</td>\n",
       "      <td>-</td>\n",
       "      <td>mim2gene</td>\n",
       "      <td>OMIM:606176</td>\n",
       "    </tr>\n",
       "    <tr>\n",
       "      <th>101142</th>\n",
       "      <td>3630</td>\n",
       "      <td>INS</td>\n",
       "      <td>HP:0000007</td>\n",
       "      <td>Autosomal recessive inheritance</td>\n",
       "      <td>NaN</td>\n",
       "      <td>NaN</td>\n",
       "      <td>-</td>\n",
       "      <td>mim2gene</td>\n",
       "      <td>OMIM:606176</td>\n",
       "    </tr>\n",
       "    <tr>\n",
       "      <th>101557</th>\n",
       "      <td>3651</td>\n",
       "      <td>PDX1</td>\n",
       "      <td>HP:0000006</td>\n",
       "      <td>Autosomal dominant inheritance</td>\n",
       "      <td>NaN</td>\n",
       "      <td>NaN</td>\n",
       "      <td>-</td>\n",
       "      <td>mim2gene</td>\n",
       "      <td>OMIM:606176</td>\n",
       "    </tr>\n",
       "    <tr>\n",
       "      <th>101571</th>\n",
       "      <td>3651</td>\n",
       "      <td>PDX1</td>\n",
       "      <td>HP:0000007</td>\n",
       "      <td>Autosomal recessive inheritance</td>\n",
       "      <td>NaN</td>\n",
       "      <td>NaN</td>\n",
       "      <td>-</td>\n",
       "      <td>mim2gene</td>\n",
       "      <td>OMIM:606176</td>\n",
       "    </tr>\n",
       "    <tr>\n",
       "      <th>104048</th>\n",
       "      <td>3767</td>\n",
       "      <td>KCNJ11</td>\n",
       "      <td>HP:0000006</td>\n",
       "      <td>Autosomal dominant inheritance</td>\n",
       "      <td>NaN</td>\n",
       "      <td>NaN</td>\n",
       "      <td>-</td>\n",
       "      <td>mim2gene</td>\n",
       "      <td>OMIM:606176</td>\n",
       "    </tr>\n",
       "    <tr>\n",
       "      <th>104062</th>\n",
       "      <td>3767</td>\n",
       "      <td>KCNJ11</td>\n",
       "      <td>HP:0000007</td>\n",
       "      <td>Autosomal recessive inheritance</td>\n",
       "      <td>NaN</td>\n",
       "      <td>NaN</td>\n",
       "      <td>-</td>\n",
       "      <td>mim2gene</td>\n",
       "      <td>OMIM:606176</td>\n",
       "    </tr>\n",
       "    <tr>\n",
       "      <th>179123</th>\n",
       "      <td>6833</td>\n",
       "      <td>ABCC8</td>\n",
       "      <td>HP:0000006</td>\n",
       "      <td>Autosomal dominant inheritance</td>\n",
       "      <td>NaN</td>\n",
       "      <td>NaN</td>\n",
       "      <td>-</td>\n",
       "      <td>mim2gene</td>\n",
       "      <td>OMIM:606176</td>\n",
       "    </tr>\n",
       "    <tr>\n",
       "      <th>179137</th>\n",
       "      <td>6833</td>\n",
       "      <td>ABCC8</td>\n",
       "      <td>HP:0000007</td>\n",
       "      <td>Autosomal recessive inheritance</td>\n",
       "      <td>NaN</td>\n",
       "      <td>NaN</td>\n",
       "      <td>-</td>\n",
       "      <td>mim2gene</td>\n",
       "      <td>OMIM:606176</td>\n",
       "    </tr>\n",
       "  </tbody>\n",
       "</table>\n",
       "</div>"
      ],
      "text/plain": [
       "        entrez-gene-id entrez-gene-symbol HPO-Term-Name  \\\n",
       "82757             2645                GCK    HP:0000006   \n",
       "82771             2645                GCK    HP:0000007   \n",
       "101128            3630                INS    HP:0000006   \n",
       "101142            3630                INS    HP:0000007   \n",
       "101557            3651               PDX1    HP:0000006   \n",
       "101571            3651               PDX1    HP:0000007   \n",
       "104048            3767             KCNJ11    HP:0000006   \n",
       "104062            3767             KCNJ11    HP:0000007   \n",
       "179123            6833              ABCC8    HP:0000006   \n",
       "179137            6833              ABCC8    HP:0000007   \n",
       "\n",
       "                            HPO-Term-ID Frequency-Raw Frequency-HPO  \\\n",
       "82757    Autosomal dominant inheritance           NaN           NaN   \n",
       "82771   Autosomal recessive inheritance           NaN           NaN   \n",
       "101128   Autosomal dominant inheritance           NaN           NaN   \n",
       "101142  Autosomal recessive inheritance           NaN           NaN   \n",
       "101557   Autosomal dominant inheritance           NaN           NaN   \n",
       "101571  Autosomal recessive inheritance           NaN           NaN   \n",
       "104048   Autosomal dominant inheritance           NaN           NaN   \n",
       "104062  Autosomal recessive inheritance           NaN           NaN   \n",
       "179123   Autosomal dominant inheritance           NaN           NaN   \n",
       "179137  Autosomal recessive inheritance           NaN           NaN   \n",
       "\n",
       "       Additional Info from G-D source G-D source disease-ID for link  \n",
       "82757                                -   mim2gene         OMIM:606176  \n",
       "82771                                -   mim2gene         OMIM:606176  \n",
       "101128                               -   mim2gene         OMIM:606176  \n",
       "101142                               -   mim2gene         OMIM:606176  \n",
       "101557                               -   mim2gene         OMIM:606176  \n",
       "101571                               -   mim2gene         OMIM:606176  \n",
       "104048                               -   mim2gene         OMIM:606176  \n",
       "104062                               -   mim2gene         OMIM:606176  \n",
       "179123                               -   mim2gene         OMIM:606176  \n",
       "179137                               -   mim2gene         OMIM:606176  "
      ]
     },
     "execution_count": 48,
     "metadata": {},
     "output_type": "execute_result"
    }
   ],
   "source": [
    "dff.pipe(lambda df: df[df['disease-ID for link'] == 'OMIM:606176'])"
   ]
  }
 ],
 "metadata": {
  "kernelspec": {
   "display_name": "Python 3",
   "language": "python",
   "name": "python3"
  },
  "language_info": {
   "codemirror_mode": {
    "name": "ipython",
    "version": 3
   },
   "file_extension": ".py",
   "mimetype": "text/x-python",
   "name": "python",
   "nbconvert_exporter": "python",
   "pygments_lexer": "ipython3",
   "version": "3.7.6"
  }
 },
 "nbformat": 4,
 "nbformat_minor": 4
}
