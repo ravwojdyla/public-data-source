{
 "cells": [
  {
   "cell_type": "markdown",
   "metadata": {},
   "source": [
    "## MedGen Import"
   ]
  },
  {
   "cell_type": "code",
   "execution_count": 5,
   "metadata": {},
   "outputs": [],
   "source": [
    "%%capture\n",
    "!. `fire-dotenv find_dotenv` && python medgen.py flow - visualize --filename=flow --format=png && rm flow"
   ]
  },
  {
   "cell_type": "markdown",
   "metadata": {},
   "source": [
    "![flow](flow.png)"
   ]
  },
  {
   "cell_type": "code",
   "execution_count": 18,
   "metadata": {},
   "outputs": [
    {
     "name": "stdout",
     "output_type": "stream",
     "text": [
      "--2020-06-19 02:29:11--  https://ftp.ncbi.nlm.nih.gov/pub/medgen/csv/MGREL_1.csv.gz\n",
      "Resolving ftp.ncbi.nlm.nih.gov (ftp.ncbi.nlm.nih.gov)... 130.14.250.10, 2607:f220:41e:250::12\n",
      "Connecting to ftp.ncbi.nlm.nih.gov (ftp.ncbi.nlm.nih.gov)|130.14.250.10|:443... connected.\n",
      "HTTP request sent, awaiting response... 200 OK\n",
      "Length: 14059653 (13M) [application/x-gzip]\n",
      "Saving to: ‘MGREL_1.csv.gz’\n",
      "\n",
      "MGREL_1.csv.gz      100%[===================>]  13.41M  4.64MB/s    in 2.9s    \n",
      "\n",
      "2020-06-19 02:29:14 (4.64 MB/s) - ‘MGREL_1.csv.gz’ saved [14059653/14059653]\n",
      "\n"
     ]
    }
   ],
   "source": [
    "!wget https://ftp.ncbi.nlm.nih.gov/pub/medgen/csv/MGREL_1.csv.gz"
   ]
  },
  {
   "cell_type": "code",
   "execution_count": 17,
   "metadata": {},
   "outputs": [
    {
     "name": "stdout",
     "output_type": "stream",
     "text": [
      "<!DOCTYPE HTML PUBLIC \"-//W3C//DTD HTML 3.2 Final//EN\">\n",
      "<html>\n",
      " <head>\n",
      "  <title>Index of /pub/medgen/csv</title>\n",
      " </head>\n",
      " <body>\n",
      "<h1>Index of /pub/medgen/csv</h1>\n",
      "<pre>Name                    Last modified      Size  <hr><a href=\"/pub/medgen/\">Parent Directory</a>                             -   \n",
      "<a href=\"MERGED.csv.gz\">MERGED.csv.gz</a>           2020-06-17 12:30  1.8K  \n",
      "<a href=\"MGCONSO.csv.gz\">MGCONSO.csv.gz</a>          2020-06-17 12:30   19M  \n"
     ]
    }
   ],
   "source": [
    "!head /tmp/medgen/mgrel.csv/MGREL_2.csv.gz"
   ]
  },
  {
   "cell_type": "code",
   "execution_count": 33,
   "metadata": {},
   "outputs": [],
   "source": [
    "!rm -rf $HOME/.prefect/medgen"
   ]
  },
  {
   "cell_type": "code",
   "execution_count": 34,
   "metadata": {},
   "outputs": [
    {
     "name": "stdout",
     "output_type": "stream",
     "text": [
      "[2020-06-19 02:35:12] INFO - prefect.FlowRunner | Beginning Flow run for 'medgen-v2020-06'\n",
      "[2020-06-19 02:35:12] INFO - prefect.FlowRunner | Starting flow run.\n",
      "[2020-06-19 02:35:12] INFO - prefect.TaskRunner | Task 'catalog_path=/home/jovyan/work/repos/public-data-source/catalog.yaml': Starting task run...\n",
      "[2020-06-19 02:35:12] INFO - prefect.TaskRunner | Task 'catalog_path=/home/jovyan/work/repos/public-data-source/catalog.yaml': finished task run for task with final state: 'Success'\n",
      "[2020-06-19 02:35:12] INFO - prefect.TaskRunner | Task 'url=gs://public-data-source/catalog/medgen/mgrel/v2020-06/20200601T000000/data.parquet': Starting task run...\n",
      "[2020-06-19 02:35:12] INFO - prefect.TaskRunner | Task 'url=gs://public-data-source/catalog/medgen/mgrel/v2020-06/20200601T000000/data.parquet': finished task run for task with final state: 'Success'\n",
      "[2020-06-19 02:35:12] INFO - prefect.TaskRunner | Task 'entry.key={\n",
      "source: medgen\n",
      "storage: gcs\n",
      "artifact: mgrel\n",
      "version: v2020-06\n",
      "created: 20200601T000000\n",
      "}': Starting task run...\n",
      "[2020-06-19 02:35:12] INFO - prefect.TaskRunner | Task 'entry.key={\n",
      "source: medgen\n",
      "storage: gcs\n",
      "artifact: mgrel\n",
      "version: v2020-06\n",
      "created: 20200601T000000\n",
      "}': finished task run for task with final state: 'Success'\n",
      "[2020-06-19 02:35:12] INFO - prefect.TaskRunner | Task 'csv_dir=/tmp/medgen/mgrel.csv': Starting task run...\n",
      "[2020-06-19 02:35:12] INFO - prefect.TaskRunner | Task 'csv_dir=/tmp/medgen/mgrel.csv': finished task run for task with final state: 'Success'\n",
      "[2020-06-19 02:35:12] INFO - prefect.TaskRunner | Task 'parquet_dir=/tmp/medgen/mgrel.parquet': Starting task run...\n",
      "[2020-06-19 02:35:12] INFO - prefect.TaskRunner | Task 'parquet_dir=/tmp/medgen/mgrel.parquet': finished task run for task with final state: 'Success'\n",
      "[2020-06-19 02:35:12] INFO - prefect.TaskRunner | Task 'download': Starting task run...\n",
      "[2020-06-19 02:35:18] INFO - prefect.TaskRunner | Task 'download': finished task run for task with final state: 'Success'\n",
      "[2020-06-19 02:35:18] INFO - prefect.TaskRunner | Task 'convert_to_parquet': Starting task run...\n",
      "20/06/19 02:35:19 WARN NativeCodeLoader: Unable to load native-hadoop library for your platform... using builtin-java classes where applicable\n",
      "Using Spark's default log4j profile: org/apache/spark/log4j-defaults.properties\n",
      "Setting default log level to \"WARN\".\n",
      "To adjust logging level use sc.setLogLevel(newLevel). For SparkR, use setLogLevel(newLevel).\n",
      "[2020-06-19 02:35:30] INFO - prefect.TaskRunner | Task 'convert_to_parquet': finished task run for task with final state: 'Success'\n",
      "[2020-06-19 02:35:30] INFO - prefect.TaskRunner | Task 'upload': Starting task run...\n",
      "[2020-06-19 02:36:46] INFO - prefect.TaskRunner | Task 'upload': finished task run for task with final state: 'Success'\n",
      "[2020-06-19 02:36:46] INFO - prefect.TaskRunner | Task 'add_entry': Starting task run...\n",
      "[2020-06-19 02:36:46] INFO - prefect.TaskRunner | Task 'add_entry': finished task run for task with final state: 'Success'\n",
      "[2020-06-19 02:36:46] INFO - prefect.FlowRunner | Flow run SUCCESS: all reference tasks succeeded\n",
      "True\n"
     ]
    }
   ],
   "source": [
    "!. `fire-dotenv find_dotenv` && python medgen.py flow - run - is_successful"
   ]
  }
 ],
 "metadata": {
  "kernelspec": {
   "display_name": "Python 3",
   "language": "python",
   "name": "python3"
  },
  "language_info": {
   "codemirror_mode": {
    "name": "ipython",
    "version": 3
   },
   "file_extension": ".py",
   "mimetype": "text/x-python",
   "name": "python",
   "nbconvert_exporter": "python",
   "pygments_lexer": "ipython3",
   "version": "3.7.6"
  }
 },
 "nbformat": 4,
 "nbformat_minor": 4
}
