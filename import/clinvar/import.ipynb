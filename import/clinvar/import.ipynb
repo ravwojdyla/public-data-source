{
 "cells": [
  {
   "cell_type": "markdown",
   "metadata": {},
   "source": [
    "## ClinVar Import\n",
    "\n",
    "Artifact Import for Release `2020-06`."
   ]
  },
  {
   "cell_type": "code",
   "execution_count": 1,
   "metadata": {},
   "outputs": [],
   "source": [
    "import fsspec\n",
    "import pandas as pd\n",
    "from data_source import catalog"
   ]
  },
  {
   "cell_type": "markdown",
   "metadata": {},
   "source": [
    "#### Download "
   ]
  },
  {
   "cell_type": "code",
   "execution_count": 2,
   "metadata": {},
   "outputs": [
    {
     "name": "stdout",
     "output_type": "stream",
     "text": [
      "--2020-06-10 22:30:54--  https://ftp.ncbi.nlm.nih.gov/pub/clinvar/tab_delimited/submission_summary.txt.gz\n",
      "Resolving ftp.ncbi.nlm.nih.gov (ftp.ncbi.nlm.nih.gov)... 130.14.250.7, 2607:f220:41e:250::13\n",
      "Connecting to ftp.ncbi.nlm.nih.gov (ftp.ncbi.nlm.nih.gov)|130.14.250.7|:443... connected.\n",
      "HTTP request sent, awaiting response... 200 OK\n",
      "Length: 57029754 (54M) [application/x-gzip]\n",
      "Saving to: ‘/tmp/submission_summary.txt.gz.1’\n",
      "\n",
      "submission_summary. 100%[===================>]  54.39M  4.58MB/s    in 14s     \n",
      "\n",
      "2020-06-10 22:31:08 (3.81 MB/s) - ‘/tmp/submission_summary.txt.gz.1’ saved [57029754/57029754]\n",
      "\n"
     ]
    }
   ],
   "source": [
    "!wget -P /tmp https://ftp.ncbi.nlm.nih.gov/pub/clinvar/tab_delimited/submission_summary.txt.gz"
   ]
  },
  {
   "cell_type": "code",
   "execution_count": 3,
   "metadata": {},
   "outputs": [
    {
     "data": {
      "text/html": [
       "<div>\n",
       "<style scoped>\n",
       "    .dataframe tbody tr th:only-of-type {\n",
       "        vertical-align: middle;\n",
       "    }\n",
       "\n",
       "    .dataframe tbody tr th {\n",
       "        vertical-align: top;\n",
       "    }\n",
       "\n",
       "    .dataframe thead th {\n",
       "        text-align: right;\n",
       "    }\n",
       "</style>\n",
       "<table border=\"1\" class=\"dataframe\">\n",
       "  <thead>\n",
       "    <tr style=\"text-align: right;\">\n",
       "      <th></th>\n",
       "      <th>#VariationID</th>\n",
       "      <th>ClinicalSignificance</th>\n",
       "      <th>DateLastEvaluated</th>\n",
       "      <th>Description</th>\n",
       "      <th>SubmittedPhenotypeInfo</th>\n",
       "      <th>ReportedPhenotypeInfo</th>\n",
       "      <th>ReviewStatus</th>\n",
       "      <th>CollectionMethod</th>\n",
       "      <th>OriginCounts</th>\n",
       "      <th>Submitter</th>\n",
       "      <th>SCV</th>\n",
       "      <th>SubmittedGeneSymbol</th>\n",
       "      <th>ExplanationOfInterpretation</th>\n",
       "    </tr>\n",
       "  </thead>\n",
       "  <tbody>\n",
       "    <tr>\n",
       "      <th>0</th>\n",
       "      <td>2</td>\n",
       "      <td>Pathogenic</td>\n",
       "      <td>Jun 29, 2010</td>\n",
       "      <td>-</td>\n",
       "      <td>SPASTIC PARAPLEGIA 48, AUTOSOMAL RECESSIVE</td>\n",
       "      <td>C3150901:Spastic paraplegia 48, autosomal rece...</td>\n",
       "      <td>no assertion criteria provided</td>\n",
       "      <td>literature only</td>\n",
       "      <td>germline:na</td>\n",
       "      <td>OMIM</td>\n",
       "      <td>SCV000020155.3</td>\n",
       "      <td>AP5Z1</td>\n",
       "      <td>-</td>\n",
       "    </tr>\n",
       "    <tr>\n",
       "      <th>1</th>\n",
       "      <td>3</td>\n",
       "      <td>Pathogenic</td>\n",
       "      <td>Jun 29, 2010</td>\n",
       "      <td>-</td>\n",
       "      <td>SPASTIC PARAPLEGIA 48</td>\n",
       "      <td>C3150901:Spastic paraplegia 48, autosomal rece...</td>\n",
       "      <td>no assertion criteria provided</td>\n",
       "      <td>literature only</td>\n",
       "      <td>germline:na</td>\n",
       "      <td>OMIM</td>\n",
       "      <td>SCV000020156.5</td>\n",
       "      <td>AP5Z1</td>\n",
       "      <td>-</td>\n",
       "    </tr>\n",
       "    <tr>\n",
       "      <th>2</th>\n",
       "      <td>4</td>\n",
       "      <td>Uncertain significance</td>\n",
       "      <td>Jun 29, 2015</td>\n",
       "      <td>-</td>\n",
       "      <td>RECLASSIFIED - VARIANT OF UNKNOWN SIGNIFICANCE</td>\n",
       "      <td>C4551772:Galloway-Mowat syndrome 1</td>\n",
       "      <td>no assertion criteria provided</td>\n",
       "      <td>literature only</td>\n",
       "      <td>germline:na</td>\n",
       "      <td>OMIM</td>\n",
       "      <td>SCV000020157.2</td>\n",
       "      <td>ZNF592</td>\n",
       "      <td>-</td>\n",
       "    </tr>\n",
       "    <tr>\n",
       "      <th>3</th>\n",
       "      <td>5</td>\n",
       "      <td>Pathogenic</td>\n",
       "      <td>Oct 01, 2010</td>\n",
       "      <td>-</td>\n",
       "      <td>MITOCHONDRIAL COMPLEX I DEFICIENCY, NUCLEAR TY...</td>\n",
       "      <td>C4748791:Mitochondrial complex 1 deficiency, n...</td>\n",
       "      <td>no assertion criteria provided</td>\n",
       "      <td>literature only</td>\n",
       "      <td>germline:na</td>\n",
       "      <td>OMIM</td>\n",
       "      <td>SCV000020158.5</td>\n",
       "      <td>FOXRED1</td>\n",
       "      <td>-</td>\n",
       "    </tr>\n",
       "    <tr>\n",
       "      <th>4</th>\n",
       "      <td>5</td>\n",
       "      <td>Pathogenic</td>\n",
       "      <td>Dec 07, 2017</td>\n",
       "      <td>The Q232X variant in the FOXRED1 gene has been...</td>\n",
       "      <td>Not Provided</td>\n",
       "      <td>CN517202:not provided</td>\n",
       "      <td>criteria provided, single submitter</td>\n",
       "      <td>clinical testing</td>\n",
       "      <td>germline:na</td>\n",
       "      <td>GeneDx</td>\n",
       "      <td>SCV000680696.2</td>\n",
       "      <td>FOXRED1</td>\n",
       "      <td>-</td>\n",
       "    </tr>\n",
       "  </tbody>\n",
       "</table>\n",
       "</div>"
      ],
      "text/plain": [
       "   #VariationID    ClinicalSignificance DateLastEvaluated  \\\n",
       "0             2              Pathogenic      Jun 29, 2010   \n",
       "1             3              Pathogenic      Jun 29, 2010   \n",
       "2             4  Uncertain significance      Jun 29, 2015   \n",
       "3             5              Pathogenic      Oct 01, 2010   \n",
       "4             5              Pathogenic      Dec 07, 2017   \n",
       "\n",
       "                                         Description  \\\n",
       "0                                                  -   \n",
       "1                                                  -   \n",
       "2                                                  -   \n",
       "3                                                  -   \n",
       "4  The Q232X variant in the FOXRED1 gene has been...   \n",
       "\n",
       "                              SubmittedPhenotypeInfo  \\\n",
       "0         SPASTIC PARAPLEGIA 48, AUTOSOMAL RECESSIVE   \n",
       "1                              SPASTIC PARAPLEGIA 48   \n",
       "2     RECLASSIFIED - VARIANT OF UNKNOWN SIGNIFICANCE   \n",
       "3  MITOCHONDRIAL COMPLEX I DEFICIENCY, NUCLEAR TY...   \n",
       "4                                       Not Provided   \n",
       "\n",
       "                               ReportedPhenotypeInfo  \\\n",
       "0  C3150901:Spastic paraplegia 48, autosomal rece...   \n",
       "1  C3150901:Spastic paraplegia 48, autosomal rece...   \n",
       "2                 C4551772:Galloway-Mowat syndrome 1   \n",
       "3  C4748791:Mitochondrial complex 1 deficiency, n...   \n",
       "4                              CN517202:not provided   \n",
       "\n",
       "                          ReviewStatus  CollectionMethod OriginCounts  \\\n",
       "0       no assertion criteria provided   literature only  germline:na   \n",
       "1       no assertion criteria provided   literature only  germline:na   \n",
       "2       no assertion criteria provided   literature only  germline:na   \n",
       "3       no assertion criteria provided   literature only  germline:na   \n",
       "4  criteria provided, single submitter  clinical testing  germline:na   \n",
       "\n",
       "  Submitter             SCV SubmittedGeneSymbol ExplanationOfInterpretation  \n",
       "0      OMIM  SCV000020155.3               AP5Z1                           -  \n",
       "1      OMIM  SCV000020156.5               AP5Z1                           -  \n",
       "2      OMIM  SCV000020157.2              ZNF592                           -  \n",
       "3      OMIM  SCV000020158.5             FOXRED1                           -  \n",
       "4    GeneDx  SCV000680696.2             FOXRED1                           -  "
      ]
     },
     "execution_count": 3,
     "metadata": {},
     "output_type": "execute_result"
    }
   ],
   "source": [
    "df = pd.read_csv('/tmp/submission_summary.txt.gz', skiprows=15, sep='\\t')\n",
    "df.head()"
   ]
  },
  {
   "cell_type": "code",
   "execution_count": 4,
   "metadata": {},
   "outputs": [
    {
     "name": "stdout",
     "output_type": "stream",
     "text": [
      "<class 'pandas.core.frame.DataFrame'>\n",
      "RangeIndex: 1224708 entries, 0 to 1224707\n",
      "Data columns (total 13 columns):\n",
      " #   Column                       Non-Null Count    Dtype \n",
      "---  ------                       --------------    ----- \n",
      " 0   #VariationID                 1224708 non-null  int64 \n",
      " 1   ClinicalSignificance         1224708 non-null  object\n",
      " 2   DateLastEvaluated            1224708 non-null  object\n",
      " 3   Description                  1224708 non-null  object\n",
      " 4   SubmittedPhenotypeInfo       1224708 non-null  object\n",
      " 5   ReportedPhenotypeInfo        1224708 non-null  object\n",
      " 6   ReviewStatus                 1224708 non-null  object\n",
      " 7   CollectionMethod             1224708 non-null  object\n",
      " 8   OriginCounts                 1224708 non-null  object\n",
      " 9   Submitter                    1224708 non-null  object\n",
      " 10  SCV                          1224708 non-null  object\n",
      " 11  SubmittedGeneSymbol          1224703 non-null  object\n",
      " 12  ExplanationOfInterpretation  1224708 non-null  object\n",
      "dtypes: int64(1), object(12)\n",
      "memory usage: 121.5+ MB\n",
      "\n"
     ]
    }
   ],
   "source": [
    "import io\n",
    "buf = io.StringIO()\n",
    "df.info(buf=buf)\n",
    "info = buf.getvalue()\n",
    "print(info)"
   ]
  },
  {
   "cell_type": "markdown",
   "metadata": {},
   "source": [
    "#### Convert"
   ]
  },
  {
   "cell_type": "code",
   "execution_count": 5,
   "metadata": {},
   "outputs": [],
   "source": [
    "df.to_parquet('/tmp/submission_summary.parquet')"
   ]
  },
  {
   "cell_type": "code",
   "execution_count": 6,
   "metadata": {},
   "outputs": [
    {
     "name": "stdout",
     "output_type": "stream",
     "text": [
      "84M\t/tmp/submission_summary.parquet\n"
     ]
    }
   ],
   "source": [
    "!du -sh /tmp/submission_summary.parquet"
   ]
  },
  {
   "cell_type": "markdown",
   "metadata": {},
   "source": [
    "#### Create Catalog Entry"
   ]
  },
  {
   "cell_type": "code",
   "execution_count": 7,
   "metadata": {},
   "outputs": [
    {
     "data": {
      "text/plain": [
       "{'source': {'slug': 'clinvar', 'name': None, 'description': None},\n",
       " 'artifact': {'slug': 'submission_summary',\n",
       "  'version': 'v2020-06',\n",
       "  'created': datetime.datetime(2020, 6, 1, 0, 0),\n",
       "  'formats': [{'name': 'parquet',\n",
       "    'type': 'file',\n",
       "    'default': True,\n",
       "    'properties': None}],\n",
       "  'name': None,\n",
       "  'metadata': {'info': \"<class 'pandas.core.frame.DataFrame'>\\nRangeIndex: 1224708 entries, 0 to 1224707\\nData columns (total 13 columns):\\n #   Column                       Non-Null Count    Dtype \\n---  ------                       --------------    ----- \\n 0   #VariationID                 1224708 non-null  int64 \\n 1   ClinicalSignificance         1224708 non-null  object\\n 2   DateLastEvaluated            1224708 non-null  object\\n 3   Description                  1224708 non-null  object\\n 4   SubmittedPhenotypeInfo       1224708 non-null  object\\n 5   ReportedPhenotypeInfo        1224708 non-null  object\\n 6   ReviewStatus                 1224708 non-null  object\\n 7   CollectionMethod             1224708 non-null  object\\n 8   OriginCounts                 1224708 non-null  object\\n 9   Submitter                    1224708 non-null  object\\n 10  SCV                          1224708 non-null  object\\n 11  SubmittedGeneSymbol          1224703 non-null  object\\n 12  ExplanationOfInterpretation  1224708 non-null  object\\ndtypes: int64(1), object(12)\\nmemory usage: 121.5+ MB\\n\",\n",
       "   'nrow': 1224708}},\n",
       " 'storage': {'slug': 'gcs',\n",
       "  'scheme': 'gs',\n",
       "  'bucket': 'public-data-source',\n",
       "  'root': 'catalog',\n",
       "  'project': 'target-ranking'}}"
      ]
     },
     "execution_count": 7,
     "metadata": {},
     "output_type": "execute_result"
    }
   ],
   "source": [
    "entry = catalog.create_entry(\n",
    "    source='clinvar', \n",
    "    slug='submission_summary',\n",
    "    version='v2020-06',\n",
    "    created=pd.to_datetime('2020-06-01').to_pydatetime(),\n",
    "    format='parquet',\n",
    "    type='file',\n",
    "    metadata=dict(info=info, nrow=len(df))\n",
    ")\n",
    "entry.dict()"
   ]
  },
  {
   "cell_type": "code",
   "execution_count": 8,
   "metadata": {},
   "outputs": [],
   "source": [
    "# This will add the entry and save it to the default\n",
    "# catalog location ($REPO/catalog.yaml)\n",
    "catalog.add_entry(entry, overwrite=True)"
   ]
  },
  {
   "cell_type": "markdown",
   "metadata": {},
   "source": [
    "#### Upload"
   ]
  },
  {
   "cell_type": "code",
   "execution_count": 9,
   "metadata": {},
   "outputs": [
    {
     "data": {
      "text/plain": [
       "'gs://public-data-source/catalog/clinvar/submission_summary/v2020-06/20200601T000000/data.parquet'"
      ]
     },
     "execution_count": 9,
     "metadata": {},
     "output_type": "execute_result"
    }
   ],
   "source": [
    "url = entry.url()\n",
    "url"
   ]
  },
  {
   "cell_type": "code",
   "execution_count": 10,
   "metadata": {},
   "outputs": [
    {
     "data": {
      "text/plain": [
       "<gcsfs.core.GCSFileSystem at 0x7f8e976da290>"
      ]
     },
     "execution_count": 10,
     "metadata": {},
     "output_type": "execute_result"
    }
   ],
   "source": [
    "fs = entry.fs\n",
    "fs"
   ]
  },
  {
   "cell_type": "code",
   "execution_count": 11,
   "metadata": {},
   "outputs": [],
   "source": [
    "fs.upload('/tmp/submission_summary.parquet', url)"
   ]
  },
  {
   "cell_type": "markdown",
   "metadata": {},
   "source": [
    "#### Test Read\n",
    "\n",
    "Assuming this entry was to be used in another project, usage would look like this:"
   ]
  },
  {
   "cell_type": "code",
   "execution_count": 12,
   "metadata": {},
   "outputs": [
    {
     "data": {
      "text/html": [
       "<div>\n",
       "<style scoped>\n",
       "    .dataframe tbody tr th:only-of-type {\n",
       "        vertical-align: middle;\n",
       "    }\n",
       "\n",
       "    .dataframe tbody tr th {\n",
       "        vertical-align: top;\n",
       "    }\n",
       "\n",
       "    .dataframe thead th {\n",
       "        text-align: right;\n",
       "    }\n",
       "</style>\n",
       "<table border=\"1\" class=\"dataframe\">\n",
       "  <thead>\n",
       "    <tr style=\"text-align: right;\">\n",
       "      <th></th>\n",
       "      <th>source_slug</th>\n",
       "      <th>artifact_slug</th>\n",
       "      <th>artifact_version</th>\n",
       "      <th>artifact_created</th>\n",
       "      <th>artifact_formats</th>\n",
       "      <th>artifact_metadata_nrow</th>\n",
       "      <th>artifact_metadata_schema</th>\n",
       "      <th>storage_slug</th>\n",
       "      <th>storage_scheme</th>\n",
       "      <th>storage_bucket</th>\n",
       "      <th>storage_root</th>\n",
       "      <th>storage_project</th>\n",
       "      <th>artifact_metadata_info</th>\n",
       "      <th>entry</th>\n",
       "    </tr>\n",
       "  </thead>\n",
       "  <tbody>\n",
       "    <tr>\n",
       "      <th>2</th>\n",
       "      <td>clinvar</td>\n",
       "      <td>submission_summary</td>\n",
       "      <td>v2020-06</td>\n",
       "      <td>2020-06-01</td>\n",
       "      <td>[{'name': 'parquet', 'type': 'file', 'default'...</td>\n",
       "      <td>1224708</td>\n",
       "      <td>NaN</td>\n",
       "      <td>gcs</td>\n",
       "      <td>gs</td>\n",
       "      <td>public-data-source</td>\n",
       "      <td>catalog</td>\n",
       "      <td>target-ranking</td>\n",
       "      <td>&lt;class 'pandas.core.frame.DataFrame'&gt;\\nRangeIn...</td>\n",
       "      <td>source=Source(slug='clinvar', name=None, descr...</td>\n",
       "    </tr>\n",
       "  </tbody>\n",
       "</table>\n",
       "</div>"
      ],
      "text/plain": [
       "  source_slug       artifact_slug artifact_version artifact_created  \\\n",
       "2     clinvar  submission_summary         v2020-06       2020-06-01   \n",
       "\n",
       "                                    artifact_formats  artifact_metadata_nrow  \\\n",
       "2  [{'name': 'parquet', 'type': 'file', 'default'...                 1224708   \n",
       "\n",
       "  artifact_metadata_schema storage_slug storage_scheme      storage_bucket  \\\n",
       "2                      NaN          gcs             gs  public-data-source   \n",
       "\n",
       "  storage_root storage_project  \\\n",
       "2      catalog  target-ranking   \n",
       "\n",
       "                              artifact_metadata_info  \\\n",
       "2  <class 'pandas.core.frame.DataFrame'>\\nRangeIn...   \n",
       "\n",
       "                                               entry  \n",
       "2  source=Source(slug='clinvar', name=None, descr...  "
      ]
     },
     "execution_count": 12,
     "metadata": {},
     "output_type": "execute_result"
    }
   ],
   "source": [
    "from data_source import catalog\n",
    "from pyspark.sql.session import SparkSession\n",
    "spark = SparkSession.builder.getOrCreate()\n",
    "df = catalog.load().to_pandas()\n",
    "df.query('source_slug == \"clinvar\"')"
   ]
  },
  {
   "cell_type": "code",
   "execution_count": 13,
   "metadata": {},
   "outputs": [
    {
     "data": {
      "text/plain": [
       "'gs://public-data-source/catalog/clinvar/submission_summary/v2020-06/20200601T000000/data.parquet'"
      ]
     },
     "execution_count": 13,
     "metadata": {},
     "output_type": "execute_result"
    }
   ],
   "source": [
    "url = df.query('source_slug == \"clinvar\"')['entry'].iloc[0].url()\n",
    "url"
   ]
  },
  {
   "cell_type": "code",
   "execution_count": 14,
   "metadata": {},
   "outputs": [
    {
     "name": "stdout",
     "output_type": "stream",
     "text": [
      "+------------+----------------------+--------------------------------------------------+\n",
      "|#VariationID|  ClinicalSignificance|                            SubmittedPhenotypeInfo|\n",
      "+------------+----------------------+--------------------------------------------------+\n",
      "|           2|            Pathogenic|        SPASTIC PARAPLEGIA 48, AUTOSOMAL RECESSIVE|\n",
      "|           3|            Pathogenic|                             SPASTIC PARAPLEGIA 48|\n",
      "|           4|Uncertain significance|    RECLASSIFIED - VARIANT OF UNKNOWN SIGNIFICANCE|\n",
      "|           5|            Pathogenic|MITOCHONDRIAL COMPLEX I DEFICIENCY, NUCLEAR TYP...|\n",
      "|           5|            Pathogenic|                                      Not Provided|\n",
      "+------------+----------------------+--------------------------------------------------+\n",
      "only showing top 5 rows\n",
      "\n"
     ]
    }
   ],
   "source": [
    "import fsspec\n",
    "path = fsspec.open_local('simplecache::' + url, simplecache={'cache_storage': '/tmp/simplecache'})\n",
    "df = spark.read.parquet(path)\n",
    "df.select('#VariationID', 'ClinicalSignificance', 'SubmittedPhenotypeInfo').show(5, 50)"
   ]
  }
 ],
 "metadata": {
  "kernelspec": {
   "display_name": "Python 3",
   "language": "python",
   "name": "python3"
  },
  "language_info": {
   "codemirror_mode": {
    "name": "ipython",
    "version": 3
   },
   "file_extension": ".py",
   "mimetype": "text/x-python",
   "name": "python",
   "nbconvert_exporter": "python",
   "pygments_lexer": "ipython3",
   "version": "3.7.6"
  }
 },
 "nbformat": 4,
 "nbformat_minor": 4
}
