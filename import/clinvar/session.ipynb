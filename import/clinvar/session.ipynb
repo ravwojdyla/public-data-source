{
 "cells": [
  {
   "cell_type": "markdown",
   "metadata": {},
   "source": [
    "## ClinVar Import"
   ]
  },
  {
   "cell_type": "code",
   "execution_count": 37,
   "metadata": {},
   "outputs": [
    {
     "name": "stdout",
     "output_type": "stream",
     "text": [
      "/home/jovyan/work/repos/public-data-source/.env\n"
     ]
    }
   ],
   "source": [
    "!fire-dotenv find_dotenv"
   ]
  },
  {
   "cell_type": "code",
   "execution_count": 79,
   "metadata": {},
   "outputs": [],
   "source": [
    "%%capture --no-stderr\n",
    "# Notes on how this works:\n",
    "# - Environment variables are set based on `.env` at project root\n",
    "# - The \"-\" is used to disambiguate between keyword arguments to a function and a function\n",
    "#   that should be called on a resulting object (i.e. \"flow\" returns a Flow and \"visualize\" \n",
    "#   calls that function on the result).\n",
    "# - Similarly, the trailing \"--\" suppresses return of the final object in the chain\n",
    "# - Prefect creates a temporary, un-suffixed \"flow\" file before generating a png (that can be deleted)\n",
    "!. `fire-dotenv find_dotenv` && python clinvar.py flow - visualize --filename=flow --format=png && rm flow"
   ]
  },
  {
   "cell_type": "markdown",
   "metadata": {},
   "source": [
    "![flow](flow.png)"
   ]
  },
  {
   "cell_type": "code",
   "execution_count": 78,
   "metadata": {},
   "outputs": [
    {
     "name": "stdout",
     "output_type": "stream",
     "text": [
      "[2020-06-14 12:27:34] INFO - prefect.FlowRunner | Beginning Flow run for 'clinvar'\n",
      "[2020-06-14 12:27:34] INFO - prefect.FlowRunner | Starting flow run.\n",
      "[2020-06-14 12:27:34] INFO - prefect.TaskRunner | Task 'catalog_path=/home/jovyan/work/repos/public-data-source/catalog.yaml': Starting task run...\n",
      "[2020-06-14 12:27:34] INFO - prefect.TaskRunner | Task 'catalog_path=/home/jovyan/work/repos/public-data-source/catalog.yaml': finished task run for task with final state: 'Success'\n",
      "[2020-06-14 12:27:34] INFO - prefect.TaskRunner | Task 'entry.key={\n",
      "source: clinvar\n",
      "storage: gcs\n",
      "artifact: submission_summary\n",
      "version: v2020-06\n",
      "created: 20200601T000000\n",
      "}': Starting task run...\n",
      "[2020-06-14 12:27:34] INFO - prefect.TaskRunner | Task 'entry.key={\n",
      "source: clinvar\n",
      "storage: gcs\n",
      "artifact: submission_summary\n",
      "version: v2020-06\n",
      "created: 20200601T000000\n",
      "}': finished task run for task with final state: 'Success'\n",
      "[2020-06-14 12:27:34] INFO - prefect.TaskRunner | Task 'url=gs://public-data-source/catalog/clinvar/submission_summary/v2020-06/20200601T000000/data.parquet': Starting task run...\n",
      "[2020-06-14 12:27:34] INFO - prefect.TaskRunner | Task 'url=gs://public-data-source/catalog/clinvar/submission_summary/v2020-06/20200601T000000/data.parquet': finished task run for task with final state: 'Success'\n",
      "[2020-06-14 12:27:34] INFO - prefect.TaskRunner | Task 'csv_path=/tmp/clinvar/submission_summary_2020-06.txt.gz': Starting task run...\n",
      "[2020-06-14 12:27:34] INFO - prefect.TaskRunner | Task 'csv_path=/tmp/clinvar/submission_summary_2020-06.txt.gz': finished task run for task with final state: 'Success'\n",
      "[2020-06-14 12:27:34] INFO - prefect.TaskRunner | Task 'parquet_path=/tmp/clinvar/submission_summary_2020-06.parquet': Starting task run...\n",
      "[2020-06-14 12:27:34] INFO - prefect.TaskRunner | Task 'parquet_path=/tmp/clinvar/submission_summary_2020-06.parquet': finished task run for task with final state: 'Success'\n",
      "[2020-06-14 12:27:34] INFO - prefect.TaskRunner | Task 'download': Starting task run...\n",
      "[2020-06-14 12:27:34] INFO - prefect.TaskRunner | Task 'download': finished task run for task with final state: 'Cached'\n",
      "[2020-06-14 12:27:34] INFO - prefect.TaskRunner | Task 'convert_to_parquet': Starting task run...\n",
      "[2020-06-14 12:27:43] INFO - prefect.TaskRunner | Task 'convert_to_parquet': finished task run for task with final state: 'Success'\n",
      "[2020-06-14 12:27:43] INFO - prefect.TaskRunner | Task 'upload': Starting task run...\n",
      "[2020-06-14 12:29:45] INFO - prefect.TaskRunner | Task 'upload': finished task run for task with final state: 'Success'\n",
      "[2020-06-14 12:29:46] INFO - prefect.TaskRunner | Task 'add_entry': Starting task run...\n",
      "[2020-06-14 12:29:46] INFO - prefect.TaskRunner | Task 'add_entry': finished task run for task with final state: 'Success'\n",
      "[2020-06-14 12:29:46] INFO - prefect.FlowRunner | Flow run SUCCESS: all reference tasks succeeded\n",
      "True\n"
     ]
    }
   ],
   "source": [
    "!. `fire-dotenv find_dotenv` && python clinvar.py flow - run - is_successful"
   ]
  }
 ],
 "metadata": {
  "kernelspec": {
   "display_name": "Python 3",
   "language": "python",
   "name": "python3"
  },
  "language_info": {
   "codemirror_mode": {
    "name": "ipython",
    "version": 3
   },
   "file_extension": ".py",
   "mimetype": "text/x-python",
   "name": "python",
   "nbconvert_exporter": "python",
   "pygments_lexer": "ipython3",
   "version": "3.7.6"
  }
 },
 "nbformat": 4,
 "nbformat_minor": 4
}
