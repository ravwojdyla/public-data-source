{
 "cells": [
  {
   "cell_type": "markdown",
   "metadata": {},
   "source": [
    "### OTP Evidence Source Import"
   ]
  },
  {
   "cell_type": "code",
   "execution_count": 8,
   "metadata": {},
   "outputs": [],
   "source": [
    "import fsspec\n",
    "import pandas as pd\n",
    "import os.path as osp\n",
    "from data_source import catalog\n",
    "from pyspark.sql.session import SparkSession\n",
    "spark = SparkSession.builder.getOrCreate()"
   ]
  },
  {
   "cell_type": "code",
   "execution_count": 5,
   "metadata": {},
   "outputs": [],
   "source": [
    "otp_version = '20.04'\n",
    "url_prefix = f'https://storage.googleapis.com/open-targets-data-releases/{otp_version}/input/evidence-files'\n",
    "files = [\n",
    "    dict(source='eva', url=url_prefix + '/eva-2020-03-20.json.gz'),\n",
    "    dict(source='l2g', url=url_prefix + '/genetics-portal-evidences-2020-03-12.json.gz')\n",
    "]"
   ]
  },
  {
   "cell_type": "code",
   "execution_count": 13,
   "metadata": {},
   "outputs": [
    {
     "name": "stdout",
     "output_type": "stream",
     "text": [
      "Downloading url \"https://storage.googleapis.com/open-targets-data-releases/20.04/input/evidence-files/eva-2020-03-20.json.gz\" to path \"/tmp/eva-2020-03-20.json.gz\"\n",
      "Downloading url \"https://storage.googleapis.com/open-targets-data-releases/20.04/input/evidence-files/genetics-portal-evidences-2020-03-12.json.gz\" to path \"/tmp/genetics-portal-evidences-2020-03-12.json.gz\"\n"
     ]
    }
   ],
   "source": [
    "%%time\n",
    "for f in files:\n",
    "    # Download to local filesystem\n",
    "    of = fsspec.open(f['url'])\n",
    "    path = '/tmp/' + f['url'].split('/')[-1]\n",
    "    print(f'Downloading url {f[\"url\"]} to path {path}')\n",
    "    of.fs.download(f['url'], path)\n",
    "    f['path'] = path"
   ]
  },
  {
   "cell_type": "code",
   "execution_count": 14,
   "metadata": {},
   "outputs": [
    {
     "name": "stdout",
     "output_type": "stream",
     "text": [
      "8.3M\t/tmp/eva-2020-03-20.json.gz\n",
      "87M\t/tmp/genetics-portal-evidences-2020-03-12.json.gz\n"
     ]
    }
   ],
   "source": [
    "!du -sh /tmp/*.json.gz"
   ]
  },
  {
   "cell_type": "code",
   "execution_count": 52,
   "metadata": {},
   "outputs": [
    {
     "name": "stdout",
     "output_type": "stream",
     "text": [
      "Converting /tmp/eva-2020-03-20.json.gz to /tmp/eva-2020-03-20.parquet\n",
      "Converting /tmp/genetics-portal-evidences-2020-03-12.json.gz to /tmp/genetics-portal-evidences-2020-03-12.parquet\n",
      "CPU times: user 28.4 ms, sys: 1.82 ms, total: 30.3 ms\n",
      "Wall time: 1min 50s\n"
     ]
    }
   ],
   "source": [
    "%%time\n",
    "for f in files:\n",
    "    # Convert from json to parquet\n",
    "    path = f['path'].replace('.json.gz', '.parquet')\n",
    "    print(f'Converting {f[\"path\"]} to {path}')\n",
    "    df = spark.read.json(f['path'])\n",
    "    f['schema'] = df._jdf.schema().treeString()\n",
    "    f['rows'] = df.count()\n",
    "    df.write.parquet(path)\n",
    "    f['result'] = path"
   ]
  },
  {
   "cell_type": "code",
   "execution_count": 53,
   "metadata": {},
   "outputs": [
    {
     "name": "stdout",
     "output_type": "stream",
     "text": [
      "7.1M\t/tmp/eva-2020-03-20.parquet\n",
      "48M\t/tmp/genetics-portal-evidences-2020-03-12.parquet\n"
     ]
    }
   ],
   "source": [
    "!du -sh /tmp/*.parquet"
   ]
  },
  {
   "cell_type": "code",
   "execution_count": 55,
   "metadata": {},
   "outputs": [
    {
     "name": "stdout",
     "output_type": "stream",
     "text": [
      "Uploading /tmp/eva-2020-03-20.parquet to gs://public-data-source/catalog/otpev/eva/v20.04/20200610T000000/data.parquet\n",
      "Uploading /tmp/genetics-portal-evidences-2020-03-12.parquet to gs://public-data-source/catalog/otpev/l2g/v20.04/20200610T000000/data.parquet\n",
      "CPU times: user 358 ms, sys: 99 ms, total: 457 ms\n",
      "Wall time: 1min 30s\n"
     ]
    }
   ],
   "source": [
    "%%time\n",
    "for f in files:\n",
    "    # Upload to GCS\n",
    "    f['entry'] = catalog.create_entry(\n",
    "        source='otpev',\n",
    "        slug=f['source'],\n",
    "        version='v'+otp_version,\n",
    "        metadata=dict(schema=f['schema'], nrow=f['rows']),\n",
    "        format='parquet',\n",
    "        type='directory'\n",
    "    )\n",
    "    \n",
    "    url = f['entry'].url()\n",
    "    print(f'Uploading {f[\"result\"]} to {url}')\n",
    "    f['entry'].fs.upload(f['result'], url, recursive=True)"
   ]
  },
  {
   "cell_type": "code",
   "execution_count": 56,
   "metadata": {},
   "outputs": [],
   "source": [
    "for f in files:\n",
    "    # Add to global catalog\n",
    "    catalog.add_entry(f['entry'])"
   ]
  },
  {
   "cell_type": "code",
   "execution_count": 57,
   "metadata": {},
   "outputs": [
    {
     "data": {
      "text/html": [
       "<div>\n",
       "<style scoped>\n",
       "    .dataframe tbody tr th:only-of-type {\n",
       "        vertical-align: middle;\n",
       "    }\n",
       "\n",
       "    .dataframe tbody tr th {\n",
       "        vertical-align: top;\n",
       "    }\n",
       "\n",
       "    .dataframe thead th {\n",
       "        text-align: right;\n",
       "    }\n",
       "</style>\n",
       "<table border=\"1\" class=\"dataframe\">\n",
       "  <thead>\n",
       "    <tr style=\"text-align: right;\">\n",
       "      <th></th>\n",
       "      <th>source_slug</th>\n",
       "      <th>artifact_slug</th>\n",
       "      <th>artifact_version</th>\n",
       "      <th>artifact_created</th>\n",
       "      <th>artifact_formats</th>\n",
       "      <th>storage_slug</th>\n",
       "      <th>storage_scheme</th>\n",
       "      <th>storage_bucket</th>\n",
       "      <th>storage_root</th>\n",
       "      <th>storage_project</th>\n",
       "      <th>artifact_metadata_nrow</th>\n",
       "      <th>artifact_metadata_schema</th>\n",
       "      <th>entry</th>\n",
       "    </tr>\n",
       "  </thead>\n",
       "  <tbody>\n",
       "    <tr>\n",
       "      <th>1</th>\n",
       "      <td>otpev</td>\n",
       "      <td>eva</td>\n",
       "      <td>v20.04</td>\n",
       "      <td>2020-06-10</td>\n",
       "      <td>[{'name': 'parquet', 'type': 'directory', 'def...</td>\n",
       "      <td>gcs</td>\n",
       "      <td>gs</td>\n",
       "      <td>public-data-source</td>\n",
       "      <td>catalog</td>\n",
       "      <td>target-ranking</td>\n",
       "      <td>122219.0</td>\n",
       "      <td>root\\n |-- access_level: string (nullable = tr...</td>\n",
       "      <td>source=Source(slug='otpev', name=None, descrip...</td>\n",
       "    </tr>\n",
       "    <tr>\n",
       "      <th>2</th>\n",
       "      <td>otpev</td>\n",
       "      <td>l2g</td>\n",
       "      <td>v20.04</td>\n",
       "      <td>2020-06-10</td>\n",
       "      <td>[{'name': 'parquet', 'type': 'directory', 'def...</td>\n",
       "      <td>gcs</td>\n",
       "      <td>gs</td>\n",
       "      <td>public-data-source</td>\n",
       "      <td>catalog</td>\n",
       "      <td>target-ranking</td>\n",
       "      <td>1931303.0</td>\n",
       "      <td>root\\n |-- access_level: string (nullable = tr...</td>\n",
       "      <td>source=Source(slug='otpev', name=None, descrip...</td>\n",
       "    </tr>\n",
       "  </tbody>\n",
       "</table>\n",
       "</div>"
      ],
      "text/plain": [
       "  source_slug artifact_slug artifact_version artifact_created  \\\n",
       "1       otpev           eva           v20.04       2020-06-10   \n",
       "2       otpev           l2g           v20.04       2020-06-10   \n",
       "\n",
       "                                    artifact_formats storage_slug  \\\n",
       "1  [{'name': 'parquet', 'type': 'directory', 'def...          gcs   \n",
       "2  [{'name': 'parquet', 'type': 'directory', 'def...          gcs   \n",
       "\n",
       "  storage_scheme      storage_bucket storage_root storage_project  \\\n",
       "1             gs  public-data-source      catalog  target-ranking   \n",
       "2             gs  public-data-source      catalog  target-ranking   \n",
       "\n",
       "   artifact_metadata_nrow                           artifact_metadata_schema  \\\n",
       "1                122219.0  root\\n |-- access_level: string (nullable = tr...   \n",
       "2               1931303.0  root\\n |-- access_level: string (nullable = tr...   \n",
       "\n",
       "                                               entry  \n",
       "1  source=Source(slug='otpev', name=None, descrip...  \n",
       "2  source=Source(slug='otpev', name=None, descrip...  "
      ]
     },
     "execution_count": 57,
     "metadata": {},
     "output_type": "execute_result"
    }
   ],
   "source": [
    "catalog.load().to_pandas().query('source_slug == \"otpev\"')"
   ]
  }
 ],
 "metadata": {
  "kernelspec": {
   "display_name": "Python 3",
   "language": "python",
   "name": "python3"
  },
  "language_info": {
   "codemirror_mode": {
    "name": "ipython",
    "version": 3
   },
   "file_extension": ".py",
   "mimetype": "text/x-python",
   "name": "python",
   "nbconvert_exporter": "python",
   "pygments_lexer": "ipython3",
   "version": "3.7.6"
  }
 },
 "nbformat": 4,
 "nbformat_minor": 4
}
