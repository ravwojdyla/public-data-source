{
 "cells": [
  {
   "cell_type": "markdown",
   "metadata": {},
   "source": [
    "## OTP Evidence Source Import\n",
    "\n",
    "See [mrtarget.data.20.06.yml](https://storage.cloud.google.com/open-targets-data-releases/20.06/input/mrtarget.data.20.06.yml) for configured sources."
   ]
  },
  {
   "cell_type": "markdown",
   "metadata": {},
   "source": [
    "## 20.06"
   ]
  },
  {
   "cell_type": "markdown",
   "metadata": {},
   "source": [
    "### EVA"
   ]
  },
  {
   "cell_type": "code",
   "execution_count": 80,
   "metadata": {},
   "outputs": [],
   "source": [
    "%%capture\n",
    "!. `fire-dotenv find_dotenv` && python otpev.py flow eva eva-2020-05-26.json.gz - visualize --filename=image/eva --format=png && rm image/eva"
   ]
  },
  {
   "cell_type": "markdown",
   "metadata": {},
   "source": [
    "![flow](image/eva.png)"
   ]
  },
  {
   "cell_type": "code",
   "execution_count": 90,
   "metadata": {},
   "outputs": [
    {
     "name": "stdout",
     "output_type": "stream",
     "text": [
      "[2020-06-17 11:14:53] INFO - prefect.FlowRunner | Beginning Flow run for 'otpev-eva-v20.06'\n",
      "[2020-06-17 11:14:53] INFO - prefect.FlowRunner | Starting flow run.\n",
      "[2020-06-17 11:14:53] INFO - prefect.TaskRunner | Task 'catalog_path=/home/jovyan/work/repos/public-data-source/catalog.yaml': Starting task run...\n",
      "[2020-06-17 11:14:53] INFO - prefect.TaskRunner | Task 'catalog_path=/home/jovyan/work/repos/public-data-source/catalog.yaml': finished task run for task with final state: 'Success'\n",
      "[2020-06-17 11:14:53] INFO - prefect.TaskRunner | Task 'entry.key={\n",
      "source: otpev\n",
      "storage: gcs\n",
      "artifact: eva\n",
      "version: v20.06\n",
      "created: 20200616T000000\n",
      "}': Starting task run...\n",
      "[2020-06-17 11:14:53] INFO - prefect.TaskRunner | Task 'entry.key={\n",
      "source: otpev\n",
      "storage: gcs\n",
      "artifact: eva\n",
      "version: v20.06\n",
      "created: 20200616T000000\n",
      "}': finished task run for task with final state: 'Success'\n",
      "[2020-06-17 11:14:53] INFO - prefect.TaskRunner | Task 'dst_url=gs://public-data-source/catalog/otpev/eva/v20.06/20200616T000000/data.parquet': Starting task run...\n",
      "[2020-06-17 11:14:53] INFO - prefect.TaskRunner | Task 'dst_url=gs://public-data-source/catalog/otpev/eva/v20.06/20200616T000000/data.parquet': finished task run for task with final state: 'Success'\n",
      "[2020-06-17 11:14:53] INFO - prefect.TaskRunner | Task 'src_url=https://storage.googleapis.com/open-targets-data-releases/20.06/input/evidence-files/eva-2020-05-26.json.gz': Starting task run...\n",
      "[2020-06-17 11:14:53] INFO - prefect.TaskRunner | Task 'src_url=https://storage.googleapis.com/open-targets-data-releases/20.06/input/evidence-files/eva-2020-05-26.json.gz': finished task run for task with final state: 'Success'\n",
      "[2020-06-17 11:14:53] INFO - prefect.TaskRunner | Task 'n_partitions=None': Starting task run...\n",
      "[2020-06-17 11:14:53] INFO - prefect.TaskRunner | Task 'n_partitions=None': finished task run for task with final state: 'Success'\n",
      "[2020-06-17 11:14:53] INFO - prefect.TaskRunner | Task 'json_path=/tmp/otpev/eva/eva-2020-05-26.json.gz': Starting task run...\n",
      "[2020-06-17 11:14:53] INFO - prefect.TaskRunner | Task 'json_path=/tmp/otpev/eva/eva-2020-05-26.json.gz': finished task run for task with final state: 'Success'\n",
      "[2020-06-17 11:14:53] INFO - prefect.TaskRunner | Task 'parquet_path=/tmp/otpev/eva/eva-2020-05-26.parquet': Starting task run...\n",
      "[2020-06-17 11:14:53] INFO - prefect.TaskRunner | Task 'parquet_path=/tmp/otpev/eva/eva-2020-05-26.parquet': finished task run for task with final state: 'Success'\n",
      "[2020-06-17 11:14:53] INFO - prefect.TaskRunner | Task 'download': Starting task run...\n",
      "[2020-06-17 11:14:58] INFO - prefect.TaskRunner | Task 'download': finished task run for task with final state: 'Success'\n",
      "[2020-06-17 11:14:58] INFO - prefect.TaskRunner | Task 'convert_to_parquet': Starting task run...\n",
      "20/06/17 11:14:59 WARN NativeCodeLoader: Unable to load native-hadoop library for your platform... using builtin-java classes where applicable\n",
      "Using Spark's default log4j profile: org/apache/spark/log4j-defaults.properties\n",
      "Setting default log level to \"WARN\".\n",
      "To adjust logging level use sc.setLogLevel(newLevel). For SparkR, use setLogLevel(newLevel).\n",
      "20/06/17 11:15:00 WARN Utils: Service 'SparkUI' could not bind on port 4040. Attempting port 4041.\n",
      "20/06/17 11:15:00 WARN Utils: Service 'SparkUI' could not bind on port 4041. Attempting port 4042.\n",
      "[2020-06-17 11:15:12] INFO - prefect.TaskRunner | Task 'convert_to_parquet': finished task run for task with final state: 'Success'\n",
      "[2020-06-17 11:15:12] INFO - prefect.TaskRunner | Task 'upload': Starting task run...\n",
      "[2020-06-17 11:15:26] INFO - prefect.TaskRunner | Task 'upload': finished task run for task with final state: 'Success'\n",
      "[2020-06-17 11:15:26] INFO - prefect.TaskRunner | Task 'add_entry': Starting task run...\n",
      "[2020-06-17 11:15:26] INFO - prefect.TaskRunner | Task 'add_entry': finished task run for task with final state: 'Success'\n",
      "[2020-06-17 11:15:26] INFO - prefect.FlowRunner | Flow run SUCCESS: all reference tasks succeeded\n",
      "True\n"
     ]
    }
   ],
   "source": [
    "!. `fire-dotenv find_dotenv` && python otpev.py flow eva eva-2020-05-26.json.gz - run - is_successful"
   ]
  },
  {
   "cell_type": "code",
   "execution_count": 82,
   "metadata": {},
   "outputs": [
    {
     "name": "stdout",
     "output_type": "stream",
     "text": [
      "4.0K\t/tmp/otpev/eva/data.parquet\n",
      "8.3M\t/tmp/otpev/eva/eva-2020-03-20.json.gz\n",
      "7.1M\t/tmp/otpev/eva/eva-2020-03-20.parquet\n",
      "7.1M\t/tmp/otpev/eva/eva-2020-05-26.parquet\n"
     ]
    }
   ],
   "source": [
    "!du -sh /tmp/otpev/eva/*"
   ]
  },
  {
   "cell_type": "markdown",
   "metadata": {},
   "source": [
    "### L2G"
   ]
  },
  {
   "cell_type": "code",
   "execution_count": 86,
   "metadata": {},
   "outputs": [],
   "source": [
    "%%capture\n",
    "!. `fire-dotenv find_dotenv` && python otpev.py flow l2g genetics-portal-evidences-2020-05-29.json.gz \\\n",
    "    --version=20.06 --n_partitions=8 - visualize --filename=image/l2g --format=png && rm image/l2g"
   ]
  },
  {
   "cell_type": "markdown",
   "metadata": {},
   "source": [
    "![flow](image/l2g.png)"
   ]
  },
  {
   "cell_type": "code",
   "execution_count": 87,
   "metadata": {},
   "outputs": [],
   "source": [
    "!rm -rf ~/.prefect"
   ]
  },
  {
   "cell_type": "code",
   "execution_count": 88,
   "metadata": {},
   "outputs": [
    {
     "name": "stdout",
     "output_type": "stream",
     "text": [
      "[2020-06-17 11:11:55] INFO - prefect.FlowRunner | Beginning Flow run for 'otpev-l2g'\n",
      "[2020-06-17 11:11:55] INFO - prefect.FlowRunner | Starting flow run.\n",
      "[2020-06-17 11:11:55] INFO - prefect.TaskRunner | Task 'catalog_path=/home/jovyan/work/repos/public-data-source/catalog.yaml': Starting task run...\n",
      "[2020-06-17 11:11:55] INFO - prefect.TaskRunner | Task 'catalog_path=/home/jovyan/work/repos/public-data-source/catalog.yaml': finished task run for task with final state: 'Success'\n",
      "[2020-06-17 11:11:55] INFO - prefect.TaskRunner | Task 'entry.key={\n",
      "source: otpev\n",
      "storage: gcs\n",
      "artifact: l2g\n",
      "version: v20.06\n",
      "created: 20200616T000000\n",
      "}': Starting task run...\n",
      "[2020-06-17 11:11:55] INFO - prefect.TaskRunner | Task 'entry.key={\n",
      "source: otpev\n",
      "storage: gcs\n",
      "artifact: l2g\n",
      "version: v20.06\n",
      "created: 20200616T000000\n",
      "}': finished task run for task with final state: 'Success'\n",
      "[2020-06-17 11:11:55] INFO - prefect.TaskRunner | Task 'src_url=https://storage.googleapis.com/open-targets-data-releases/20.06/input/evidence-files/genetics-portal-evidences-2020-05-29.json.gz': Starting task run...\n",
      "[2020-06-17 11:11:55] INFO - prefect.TaskRunner | Task 'src_url=https://storage.googleapis.com/open-targets-data-releases/20.06/input/evidence-files/genetics-portal-evidences-2020-05-29.json.gz': finished task run for task with final state: 'Success'\n",
      "[2020-06-17 11:11:55] INFO - prefect.TaskRunner | Task 'dst_url=gs://public-data-source/catalog/otpev/l2g/v20.06/20200616T000000/data.parquet': Starting task run...\n",
      "[2020-06-17 11:11:55] INFO - prefect.TaskRunner | Task 'dst_url=gs://public-data-source/catalog/otpev/l2g/v20.06/20200616T000000/data.parquet': finished task run for task with final state: 'Success'\n",
      "[2020-06-17 11:11:56] INFO - prefect.TaskRunner | Task 'n_partitions=8': Starting task run...\n",
      "[2020-06-17 11:11:56] INFO - prefect.TaskRunner | Task 'n_partitions=8': finished task run for task with final state: 'Success'\n",
      "[2020-06-17 11:11:56] INFO - prefect.TaskRunner | Task 'json_path=/tmp/otpev/l2g/genetics-portal-evidences-2020-05-29.json.gz': Starting task run...\n",
      "[2020-06-17 11:11:56] INFO - prefect.TaskRunner | Task 'json_path=/tmp/otpev/l2g/genetics-portal-evidences-2020-05-29.json.gz': finished task run for task with final state: 'Success'\n",
      "[2020-06-17 11:11:56] INFO - prefect.TaskRunner | Task 'parquet_path=/tmp/otpev/l2g/genetics-portal-evidences-2020-05-29.parquet': Starting task run...\n",
      "[2020-06-17 11:11:56] INFO - prefect.TaskRunner | Task 'parquet_path=/tmp/otpev/l2g/genetics-portal-evidences-2020-05-29.parquet': finished task run for task with final state: 'Success'\n",
      "[2020-06-17 11:11:56] INFO - prefect.TaskRunner | Task 'download': Starting task run...\n",
      "[2020-06-17 11:12:09] INFO - prefect.TaskRunner | Task 'download': finished task run for task with final state: 'Success'\n",
      "[2020-06-17 11:12:09] INFO - prefect.TaskRunner | Task 'convert_to_parquet': Starting task run...\n",
      "20/06/17 11:12:10 WARN NativeCodeLoader: Unable to load native-hadoop library for your platform... using builtin-java classes where applicable\n",
      "Using Spark's default log4j profile: org/apache/spark/log4j-defaults.properties\n",
      "Setting default log level to \"WARN\".\n",
      "To adjust logging level use sc.setLogLevel(newLevel). For SparkR, use setLogLevel(newLevel).\n",
      "20/06/17 11:12:11 WARN Utils: Service 'SparkUI' could not bind on port 4040. Attempting port 4041.\n",
      "20/06/17 11:12:11 WARN Utils: Service 'SparkUI' could not bind on port 4041. Attempting port 4042.\n",
      "[2020-06-17 11:12:39] INFO - prefect.TaskRunner | Task 'convert_to_parquet': finished task run for task with final state: 'Success'\n",
      "[2020-06-17 11:12:39] INFO - prefect.TaskRunner | Task 'upload': Starting task run...\n",
      "[2020-06-17 11:13:49] INFO - prefect.TaskRunner | Task 'upload': finished task run for task with final state: 'Success'\n",
      "[2020-06-17 11:13:49] INFO - prefect.TaskRunner | Task 'add_entry': Starting task run...\n",
      "[2020-06-17 11:13:50] INFO - prefect.TaskRunner | Task 'add_entry': finished task run for task with final state: 'Success'\n",
      "[2020-06-17 11:13:50] INFO - prefect.FlowRunner | Flow run SUCCESS: all reference tasks succeeded\n",
      "True\n"
     ]
    }
   ],
   "source": [
    "!. `fire-dotenv find_dotenv` && python otpev.py flow l2g genetics-portal-evidences-2020-05-29.json.gz \\\n",
    "    --version=20.06 --n_partitions=8 - run - is_successful"
   ]
  },
  {
   "cell_type": "code",
   "execution_count": 89,
   "metadata": {},
   "outputs": [
    {
     "name": "stdout",
     "output_type": "stream",
     "text": [
      "87M\t/tmp/otpev/l2g/genetics-portal-evidences-2020-03-12.json.gz\n",
      "154M\t/tmp/otpev/l2g/genetics-portal-evidences-2020-03-12.parquet\n",
      "27M\t/tmp/otpev/l2g/genetics-portal-evidences-2020-05-29.json.gz\n",
      "39M\t/tmp/otpev/l2g/genetics-portal-evidences-2020-05-29.parquet\n"
     ]
    }
   ],
   "source": [
    "!du -sh /tmp/otpev/l2g/*"
   ]
  },
  {
   "cell_type": "markdown",
   "metadata": {},
   "source": [
    "## 19.11"
   ]
  },
  {
   "cell_type": "markdown",
   "metadata": {},
   "source": [
    "### GWAS"
   ]
  },
  {
   "cell_type": "code",
   "execution_count": 75,
   "metadata": {},
   "outputs": [],
   "source": [
    "%%capture\n",
    "!. `fire-dotenv find_dotenv` && python otpev.py flow gwas gwas-2019-10-28.json.gz --version=19.11 --n_partitions=8 - visualize --filename=flow --format=png && rm flow"
   ]
  },
  {
   "cell_type": "markdown",
   "metadata": {},
   "source": [
    "![flow](flow.png)"
   ]
  },
  {
   "cell_type": "code",
   "execution_count": 76,
   "metadata": {},
   "outputs": [
    {
     "name": "stdout",
     "output_type": "stream",
     "text": [
      "[2020-06-17 09:15:47] INFO - prefect.FlowRunner | Beginning Flow run for 'otpev-gwas'\n",
      "[2020-06-17 09:15:47] INFO - prefect.FlowRunner | Starting flow run.\n",
      "[2020-06-17 09:15:47] INFO - prefect.TaskRunner | Task 'catalog_path=/home/jovyan/work/repos/public-data-source/catalog.yaml': Starting task run...\n",
      "[2020-06-17 09:15:47] INFO - prefect.TaskRunner | Task 'catalog_path=/home/jovyan/work/repos/public-data-source/catalog.yaml': finished task run for task with final state: 'Success'\n",
      "[2020-06-17 09:15:47] INFO - prefect.TaskRunner | Task 'entry.key={\n",
      "source: otpev\n",
      "storage: gcs\n",
      "artifact: gwas\n",
      "version: v19.11\n",
      "created: 20191128T000000\n",
      "}': Starting task run...\n",
      "[2020-06-17 09:15:47] INFO - prefect.TaskRunner | Task 'entry.key={\n",
      "source: otpev\n",
      "storage: gcs\n",
      "artifact: gwas\n",
      "version: v19.11\n",
      "created: 20191128T000000\n",
      "}': finished task run for task with final state: 'Success'\n",
      "[2020-06-17 09:15:48] INFO - prefect.TaskRunner | Task 'dst_url=gs://public-data-source/catalog/otpev/gwas/v19.11/20191128T000000/data.parquet': Starting task run...\n",
      "[2020-06-17 09:15:48] INFO - prefect.TaskRunner | Task 'dst_url=gs://public-data-source/catalog/otpev/gwas/v19.11/20191128T000000/data.parquet': finished task run for task with final state: 'Success'\n",
      "[2020-06-17 09:15:48] INFO - prefect.TaskRunner | Task 'src_url=https://storage.googleapis.com/open-targets-data-releases/19.11/input/evidence-files/gwas-2019-10-28.json.gz': Starting task run...\n",
      "[2020-06-17 09:15:48] INFO - prefect.TaskRunner | Task 'src_url=https://storage.googleapis.com/open-targets-data-releases/19.11/input/evidence-files/gwas-2019-10-28.json.gz': finished task run for task with final state: 'Success'\n",
      "[2020-06-17 09:15:48] INFO - prefect.TaskRunner | Task 'n_partitions=8': Starting task run...\n",
      "[2020-06-17 09:15:48] INFO - prefect.TaskRunner | Task 'n_partitions=8': finished task run for task with final state: 'Success'\n",
      "[2020-06-17 09:15:48] INFO - prefect.TaskRunner | Task 'json_path=/tmp/otpev/gwas/gwas-2019-10-28.json.gz': Starting task run...\n",
      "[2020-06-17 09:15:48] INFO - prefect.TaskRunner | Task 'json_path=/tmp/otpev/gwas/gwas-2019-10-28.json.gz': finished task run for task with final state: 'Success'\n",
      "[2020-06-17 09:15:48] INFO - prefect.TaskRunner | Task 'parquet_path=/tmp/otpev/gwas/gwas-2019-10-28.parquet': Starting task run...\n",
      "[2020-06-17 09:15:48] INFO - prefect.TaskRunner | Task 'parquet_path=/tmp/otpev/gwas/gwas-2019-10-28.parquet': finished task run for task with final state: 'Success'\n",
      "[2020-06-17 09:15:48] INFO - prefect.TaskRunner | Task 'download': Starting task run...\n",
      "[2020-06-17 09:15:48] INFO - prefect.TaskRunner | Task 'download': finished task run for task with final state: 'Cached'\n",
      "[2020-06-17 09:15:48] INFO - prefect.TaskRunner | Task 'convert_to_parquet': Starting task run...\n",
      "20/06/17 09:15:49 WARN NativeCodeLoader: Unable to load native-hadoop library for your platform... using builtin-java classes where applicable\n",
      "Using Spark's default log4j profile: org/apache/spark/log4j-defaults.properties\n",
      "Setting default log level to \"WARN\".\n",
      "To adjust logging level use sc.setLogLevel(newLevel). For SparkR, use setLogLevel(newLevel).\n",
      "20/06/17 09:15:49 WARN Utils: Service 'SparkUI' could not bind on port 4040. Attempting port 4041.\n",
      "[2020-06-17 09:16:04] INFO - prefect.TaskRunner | Task 'convert_to_parquet': finished task run for task with final state: 'Success'\n",
      "[2020-06-17 09:16:04] INFO - prefect.TaskRunner | Task 'upload': Starting task run...\n",
      "[2020-06-17 09:16:34] INFO - prefect.TaskRunner | Task 'upload': finished task run for task with final state: 'Success'\n",
      "[2020-06-17 09:16:34] INFO - prefect.TaskRunner | Task 'add_entry': Starting task run...\n",
      "[2020-06-17 09:16:34] INFO - prefect.TaskRunner | Task 'add_entry': finished task run for task with final state: 'Success'\n",
      "[2020-06-17 09:16:34] INFO - prefect.FlowRunner | Flow run SUCCESS: all reference tasks succeeded\n",
      "True\n"
     ]
    }
   ],
   "source": [
    "!. `fire-dotenv find_dotenv` && python otpev.py flow gwas gwas-2019-10-28.json.gz --version=19.11 --n_partitions=8 - run - is_successful"
   ]
  }
 ],
 "metadata": {
  "kernelspec": {
   "display_name": "Python 3",
   "language": "python",
   "name": "python3"
  },
  "language_info": {
   "codemirror_mode": {
    "name": "ipython",
    "version": 3
   },
   "file_extension": ".py",
   "mimetype": "text/x-python",
   "name": "python",
   "nbconvert_exporter": "python",
   "pygments_lexer": "ipython3",
   "version": "3.7.6"
  }
 },
 "nbformat": 4,
 "nbformat_minor": 4
}
