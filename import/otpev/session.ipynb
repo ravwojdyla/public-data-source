{
 "cells": [
  {
   "cell_type": "markdown",
   "metadata": {},
   "source": [
    "## OTP Evidence Source Import\n",
    "\n",
    "See [mrtarget.data.20.04.yml](https://storage.cloud.google.com/open-targets-data-releases/20.04/input/mrtarget.data.20.04.yml) for configured sources."
   ]
  },
  {
   "cell_type": "markdown",
   "metadata": {},
   "source": [
    "### EVA"
   ]
  },
  {
   "cell_type": "code",
   "execution_count": 16,
   "metadata": {},
   "outputs": [],
   "source": [
    "%%capture\n",
    "!. `fire-dotenv find_dotenv` && python otpev.py flow eva eva-2020-03-20.json.gz - visualize --filename=flow --format=png && rm flow"
   ]
  },
  {
   "cell_type": "markdown",
   "metadata": {},
   "source": [
    "![flow](flow.png)"
   ]
  },
  {
   "cell_type": "code",
   "execution_count": 34,
   "metadata": {},
   "outputs": [
    {
     "name": "stdout",
     "output_type": "stream",
     "text": [
      "[2020-06-15 13:10:32] INFO - prefect.FlowRunner | Beginning Flow run for 'otpev-eva'\n",
      "[2020-06-15 13:10:32] INFO - prefect.FlowRunner | Starting flow run.\n",
      "[2020-06-15 13:10:32] INFO - prefect.TaskRunner | Task 'catalog_path=/home/jovyan/work/repos/public-data-source/catalog.yaml': Starting task run...\n",
      "[2020-06-15 13:10:32] INFO - prefect.TaskRunner | Task 'catalog_path=/home/jovyan/work/repos/public-data-source/catalog.yaml': finished task run for task with final state: 'Success'\n",
      "[2020-06-15 13:10:32] INFO - prefect.TaskRunner | Task 'entry.key={\n",
      "source: otpev\n",
      "storage: gcs\n",
      "artifact: eva\n",
      "version: v20.04\n",
      "created: 20200407T000000\n",
      "}': Starting task run...\n",
      "[2020-06-15 13:10:32] INFO - prefect.TaskRunner | Task 'entry.key={\n",
      "source: otpev\n",
      "storage: gcs\n",
      "artifact: eva\n",
      "version: v20.04\n",
      "created: 20200407T000000\n",
      "}': finished task run for task with final state: 'Success'\n",
      "[2020-06-15 13:10:32] INFO - prefect.TaskRunner | Task 'json_path=/tmp/otpev/eva/eva-2020-03-20.json.gz': Starting task run...\n",
      "[2020-06-15 13:10:32] INFO - prefect.TaskRunner | Task 'json_path=/tmp/otpev/eva/eva-2020-03-20.json.gz': finished task run for task with final state: 'Success'\n",
      "[2020-06-15 13:10:32] INFO - prefect.TaskRunner | Task 'src_url=https://storage.googleapis.com/open-targets-data-releases/20.04/input/evidence-files/eva-2020-03-20.json.gz': Starting task run...\n",
      "[2020-06-15 13:10:32] INFO - prefect.TaskRunner | Task 'src_url=https://storage.googleapis.com/open-targets-data-releases/20.04/input/evidence-files/eva-2020-03-20.json.gz': finished task run for task with final state: 'Success'\n",
      "[2020-06-15 13:10:32] INFO - prefect.TaskRunner | Task 'dst_url=gs://public-data-source/catalog/otpev/eva/v20.04/20200407T000000/data.parquet': Starting task run...\n",
      "[2020-06-15 13:10:32] INFO - prefect.TaskRunner | Task 'dst_url=gs://public-data-source/catalog/otpev/eva/v20.04/20200407T000000/data.parquet': finished task run for task with final state: 'Success'\n",
      "[2020-06-15 13:10:32] INFO - prefect.TaskRunner | Task 'parquet_path=/tmp/otpev/eva/eva-2020-03-20.parquet': Starting task run...\n",
      "[2020-06-15 13:10:32] INFO - prefect.TaskRunner | Task 'parquet_path=/tmp/otpev/eva/eva-2020-03-20.parquet': finished task run for task with final state: 'Success'\n",
      "[2020-06-15 13:10:32] INFO - prefect.TaskRunner | Task 'download': Starting task run...\n",
      "[2020-06-15 13:10:32] INFO - prefect.TaskRunner | Task 'download': finished task run for task with final state: 'Cached'\n",
      "[2020-06-15 13:10:32] INFO - prefect.TaskRunner | Task 'convert_to_parquet': Starting task run...\n",
      "20/06/15 13:10:33 WARN NativeCodeLoader: Unable to load native-hadoop library for your platform... using builtin-java classes where applicable\n",
      "Using Spark's default log4j profile: org/apache/spark/log4j-defaults.properties\n",
      "Setting default log level to \"WARN\".\n",
      "To adjust logging level use sc.setLogLevel(newLevel). For SparkR, use setLogLevel(newLevel).\n",
      "20/06/15 13:10:34 WARN SparkConf: Note that spark.local.dir will be overridden by the value set by the cluster manager (via SPARK_LOCAL_DIRS in mesos/standalone/kubernetes and LOCAL_DIRS in YARN).\n",
      "20/06/15 13:10:34 WARN Utils: Service 'SparkUI' could not bind on port 4040. Attempting port 4041.\n",
      "20/06/15 13:10:34 WARN Utils: Service 'SparkUI' could not bind on port 4041. Attempting port 4042.\n",
      "[2020-06-15 13:10:46] INFO - prefect.TaskRunner | Task 'convert_to_parquet': finished task run for task with final state: 'Success'\n",
      "[2020-06-15 13:10:46] INFO - prefect.TaskRunner | Task 'upload': Starting task run...\n",
      "[2020-06-15 13:11:00] INFO - prefect.TaskRunner | Task 'upload': finished task run for task with final state: 'Success'\n",
      "[2020-06-15 13:11:00] INFO - prefect.TaskRunner | Task 'add_entry': Starting task run...\n",
      "[2020-06-15 13:11:00] INFO - prefect.TaskRunner | Task 'add_entry': finished task run for task with final state: 'Success'\n",
      "[2020-06-15 13:11:00] INFO - prefect.FlowRunner | Flow run SUCCESS: all reference tasks succeeded\n",
      "True\n"
     ]
    }
   ],
   "source": [
    "!. `fire-dotenv find_dotenv` && python otpev.py flow eva eva-2020-03-20.json.gz - run - is_successful"
   ]
  },
  {
   "cell_type": "code",
   "execution_count": 38,
   "metadata": {},
   "outputs": [
    {
     "name": "stdout",
     "output_type": "stream",
     "text": [
      "4.0K\t/tmp/otpev/eva/data.parquet\n",
      "8.3M\t/tmp/otpev/eva/eva-2020-03-20.json.gz\n",
      "7.1M\t/tmp/otpev/eva/eva-2020-03-20.parquet\n"
     ]
    }
   ],
   "source": [
    "!du -sh /tmp/otpev/eva/*"
   ]
  },
  {
   "cell_type": "markdown",
   "metadata": {},
   "source": [
    "### L2G"
   ]
  },
  {
   "cell_type": "code",
   "execution_count": 35,
   "metadata": {},
   "outputs": [],
   "source": [
    "%%capture\n",
    "!. `fire-dotenv find_dotenv` && python otpev.py flow l2g genetics-portal-evidences-2020-03-12.json.gz - visualize --filename=flow --format=png && rm flow"
   ]
  },
  {
   "cell_type": "markdown",
   "metadata": {},
   "source": [
    "![flow](flow.png)"
   ]
  },
  {
   "cell_type": "code",
   "execution_count": 37,
   "metadata": {},
   "outputs": [
    {
     "name": "stdout",
     "output_type": "stream",
     "text": [
      "[2020-06-15 13:14:35] INFO - prefect.FlowRunner | Beginning Flow run for 'otpev-l2g'\n",
      "[2020-06-15 13:14:35] INFO - prefect.FlowRunner | Starting flow run.\n",
      "[2020-06-15 13:14:35] INFO - prefect.TaskRunner | Task 'catalog_path=/home/jovyan/work/repos/public-data-source/catalog.yaml': Starting task run...\n",
      "[2020-06-15 13:14:35] INFO - prefect.TaskRunner | Task 'catalog_path=/home/jovyan/work/repos/public-data-source/catalog.yaml': finished task run for task with final state: 'Success'\n",
      "[2020-06-15 13:14:35] INFO - prefect.TaskRunner | Task 'entry.key={\n",
      "source: otpev\n",
      "storage: gcs\n",
      "artifact: l2g\n",
      "version: v20.04\n",
      "created: 20200407T000000\n",
      "}': Starting task run...\n",
      "[2020-06-15 13:14:35] INFO - prefect.TaskRunner | Task 'entry.key={\n",
      "source: otpev\n",
      "storage: gcs\n",
      "artifact: l2g\n",
      "version: v20.04\n",
      "created: 20200407T000000\n",
      "}': finished task run for task with final state: 'Success'\n",
      "[2020-06-15 13:14:36] INFO - prefect.TaskRunner | Task 'json_path=/tmp/otpev/l2g/genetics-portal-evidences-2020-03-12.json.gz': Starting task run...\n",
      "[2020-06-15 13:14:36] INFO - prefect.TaskRunner | Task 'json_path=/tmp/otpev/l2g/genetics-portal-evidences-2020-03-12.json.gz': finished task run for task with final state: 'Success'\n",
      "[2020-06-15 13:14:36] INFO - prefect.TaskRunner | Task 'src_url=https://storage.googleapis.com/open-targets-data-releases/20.04/input/evidence-files/genetics-portal-evidences-2020-03-12.json.gz': Starting task run...\n",
      "[2020-06-15 13:14:36] INFO - prefect.TaskRunner | Task 'src_url=https://storage.googleapis.com/open-targets-data-releases/20.04/input/evidence-files/genetics-portal-evidences-2020-03-12.json.gz': finished task run for task with final state: 'Success'\n",
      "[2020-06-15 13:14:36] INFO - prefect.TaskRunner | Task 'dst_url=gs://public-data-source/catalog/otpev/l2g/v20.04/20200407T000000/data.parquet': Starting task run...\n",
      "[2020-06-15 13:14:36] INFO - prefect.TaskRunner | Task 'dst_url=gs://public-data-source/catalog/otpev/l2g/v20.04/20200407T000000/data.parquet': finished task run for task with final state: 'Success'\n",
      "[2020-06-15 13:14:36] INFO - prefect.TaskRunner | Task 'parquet_path=/tmp/otpev/l2g/genetics-portal-evidences-2020-03-12.parquet': Starting task run...\n",
      "[2020-06-15 13:14:36] INFO - prefect.TaskRunner | Task 'parquet_path=/tmp/otpev/l2g/genetics-portal-evidences-2020-03-12.parquet': finished task run for task with final state: 'Success'\n",
      "[2020-06-15 13:14:36] INFO - prefect.TaskRunner | Task 'download': Starting task run...\n",
      "[2020-06-15 13:15:01] INFO - prefect.TaskRunner | Task 'download': finished task run for task with final state: 'Success'\n",
      "[2020-06-15 13:15:01] INFO - prefect.TaskRunner | Task 'convert_to_parquet': Starting task run...\n",
      "20/06/15 13:15:02 WARN NativeCodeLoader: Unable to load native-hadoop library for your platform... using builtin-java classes where applicable\n",
      "Using Spark's default log4j profile: org/apache/spark/log4j-defaults.properties\n",
      "Setting default log level to \"WARN\".\n",
      "To adjust logging level use sc.setLogLevel(newLevel). For SparkR, use setLogLevel(newLevel).\n",
      "20/06/15 13:15:03 WARN Utils: Service 'SparkUI' could not bind on port 4040. Attempting port 4041.\n",
      "20/06/15 13:15:03 WARN Utils: Service 'SparkUI' could not bind on port 4041. Attempting port 4042.\n",
      "[2020-06-15 13:16:52] INFO - prefect.TaskRunner | Task 'convert_to_parquet': finished task run for task with final state: 'Success'\n",
      "[2020-06-15 13:16:52] INFO - prefect.TaskRunner | Task 'upload': Starting task run...\n",
      "[2020-06-15 13:18:03] INFO - prefect.TaskRunner | Task 'upload': finished task run for task with final state: 'Success'\n",
      "[2020-06-15 13:18:03] INFO - prefect.TaskRunner | Task 'add_entry': Starting task run...\n",
      "[2020-06-15 13:18:03] INFO - prefect.TaskRunner | Task 'add_entry': finished task run for task with final state: 'Success'\n",
      "[2020-06-15 13:18:03] INFO - prefect.FlowRunner | Flow run SUCCESS: all reference tasks succeeded\n",
      "True\n"
     ]
    }
   ],
   "source": [
    "!. `fire-dotenv find_dotenv` && python otpev.py flow l2g genetics-portal-evidences-2020-03-12.json.gz - run - is_successful"
   ]
  },
  {
   "cell_type": "code",
   "execution_count": 39,
   "metadata": {},
   "outputs": [
    {
     "name": "stdout",
     "output_type": "stream",
     "text": [
      "87M\t/tmp/otpev/l2g/genetics-portal-evidences-2020-03-12.json.gz\n",
      "48M\t/tmp/otpev/l2g/genetics-portal-evidences-2020-03-12.parquet\n"
     ]
    }
   ],
   "source": [
    "!du -sh /tmp/otpev/l2g/*"
   ]
  }
 ],
 "metadata": {
  "kernelspec": {
   "display_name": "Python 3",
   "language": "python",
   "name": "python3"
  },
  "language_info": {
   "codemirror_mode": {
    "name": "ipython",
    "version": 3
   },
   "file_extension": ".py",
   "mimetype": "text/x-python",
   "name": "python",
   "nbconvert_exporter": "python",
   "pygments_lexer": "ipython3",
   "version": "3.7.6"
  }
 },
 "nbformat": 4,
 "nbformat_minor": 4
}
