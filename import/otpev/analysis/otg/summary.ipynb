{
 "cells": [
  {
   "cell_type": "markdown",
   "metadata": {},
   "source": [
    "## OTG Integration in OTP\n",
    "\n",
    "This notebook contains raw data summaries and field interpretations for genetic portal evidence in OTP.\n",
    "\n",
    "See [notes.md](notes.md) for more info on the history and methods behind this.\n",
    "\n",
    "\n",
    "### Summary\n",
    "\n",
    "Summary for new OTG evidence records as of v20.06:\n",
    "\n",
    "- There are now 393k evidence strings, which expands to about 640k associations\n",
    "    - This \"expansion\" results from associating the same variants to diseases that are ancestors in EFO of the original phenotype\n",
    "    - For reference, there are 185,865 variant-trait associations in GWAS catalog v1.0.2\n",
    "- Frequency of study source:\n",
    "    - GWAS Catalog: **264k (67%)**\n",
    "        - example: https://genetics.opentargets.org/study/GCST007068\n",
    "    - Neale Lab v2 UKB: **123k (32%)** \n",
    "        - example: https://genetics.opentargets.org/study/NEALE2_30090_raw\n",
    "    - Lee Lab SAIGE UKB: **5.3k (1%)**\n",
    "        - example: https://genetics.opentargets.org/study/SAIGE_415\n",
    "        - homepage: https://www.leelabsg.org/resources\n",
    "- Variant type recorded as one of \"SNP\", \"insertion\", or \"deletion\" in `variant.type`\n",
    "- `variant.rs_id` present in 99.3% of all 1.9M associations\n",
    "- `evidence.gene2variant.resource_score` contains OTG L2G score\n",
    "- `evidence.variant2disease.gwas_sample_size` has size from original study\n",
    "- `evidence.variant2disease.reported_trait` has original trait name\n",
    "- `evidence.variant2disease.resource_score` contains p-value from GWAS\n",
    "- `evidence.gene2variant.consequence_code` has VEP consequences with these frequencies:\n",
    "\n",
    "|    | consequence_code                   |   count |\n",
    "|---:|:-----------------------------------|--------:|\n",
    "|  0 | intergenic_variant                 |  290094 |\n",
    "|  1 | intron_variant                     |   67178 |\n",
    "|  2 | upstream_gene_variant              |   11168 |\n",
    "|  3 | downstream_gene_variant            |   10411 |\n",
    "|  4 | missense_variant                   |    8036 |\n",
    "|  5 | 3_prime_UTR_variant                |    3699 |\n",
    "|  6 | synonymous_variant                 |    1202 |\n",
    "|  7 | 5_prime_UTR_variant                |     877 |\n",
    "|  8 | splice_region_variant              |     338 |\n",
    "|  9 | non_coding_transcript_exon_variant |      82 |\n",
    "| 10 | stop_gained                        |      50 |\n",
    "| 11 | splice_donor_variant               |      23 |\n",
    "| 12 | inframe_deletion                   |      22 |\n",
    "| 13 | frameshift_variant                 |      21 |\n",
    "| 14 | inframe_insertion                  |      20 |\n",
    "| 15 | splice_acceptor_variant            |       5 |\n",
    "| 16 | start_lost                         |       4 |\n",
    "| 17 | coding_sequence_variant            |       2 |"
   ]
  },
  {
   "cell_type": "code",
   "execution_count": 1,
   "metadata": {},
   "outputs": [],
   "source": [
    "from dotenv import load_dotenv; load_dotenv()\n",
    "from data_source import catalog\n",
    "from pyspark.sql.session import SparkSession\n",
    "from pyspark.sql import functions as F\n",
    "spark = SparkSession.builder.getOrCreate()\n",
    "cat = catalog.load()"
   ]
  },
  {
   "cell_type": "markdown",
   "metadata": {},
   "source": [
    "### GWAS Catalog vs L2G Associations\n",
    "\n",
    "The L2G score was first incorporated into OTP in 20.02.  This comparison is for L2G in 20.04/20.06 to 19.11, the last release with only lead variants from GWAS Catalog / UKB."
   ]
  },
  {
   "cell_type": "markdown",
   "metadata": {},
   "source": [
    "#### Differences\n",
    "\n",
    "- `rs_id` now included in variant object\n",
    "- `resource_score` was added to `evidence.gene2variant` whereas it was only applicable to `evidence.variant2disease` before (not both have it)\n",
    "- There were 194k variant, target, disease combinations before and now there are:\n",
    "    - 1.931M in 20.04\n",
    "    - 393k in 20.06 (see https://blog.opentargets.org/2020/06/17/open-targets-platform-20-06-has-been-released/)\n",
    "        - A .05 threshold was added to l2g score to remove so many unimportant associations"
   ]
  },
  {
   "cell_type": "code",
   "execution_count": 8,
   "metadata": {},
   "outputs": [
    {
     "name": "stdout",
     "output_type": "stream",
     "text": [
      "/tmp/data_source_cache/otpev/l2g/v20.06/20200616T000000/data.parquet\n"
     ]
    },
    {
     "data": {
      "text/plain": [
       "393232"
      ]
     },
     "execution_count": 8,
     "metadata": {},
     "output_type": "execute_result"
    }
   ],
   "source": [
    "path = cat.download('otpev', 'l2g', version='v20.06', overwrite=True); print(path)\n",
    "df = spark.read.parquet(path)\n",
    "schema_new = df._jdf.schema().treeString()\n",
    "df.count()"
   ]
  },
  {
   "cell_type": "code",
   "execution_count": 3,
   "metadata": {},
   "outputs": [
    {
     "name": "stdout",
     "output_type": "stream",
     "text": [
      "/tmp/data_source_cache/otpev/gwas/v19.11/20191128T000000/data.parquet\n"
     ]
    },
    {
     "data": {
      "text/plain": [
       "194170"
      ]
     },
     "execution_count": 3,
     "metadata": {},
     "output_type": "execute_result"
    }
   ],
   "source": [
    "path = cat.download('otpev', 'gwas', version='v19.11'); print(path)\n",
    "dfo = spark.read.parquet(path)\n",
    "schema_old = dfo._jdf.schema().treeString()\n",
    "dfo.count()"
   ]
  },
  {
   "cell_type": "markdown",
   "metadata": {},
   "source": [
    "#### Schemas"
   ]
  },
  {
   "cell_type": "code",
   "execution_count": 5,
   "metadata": {},
   "outputs": [
    {
     "name": "stdout",
     "output_type": "stream",
     "text": [
      "root\n",
      " |-- access_level: string (nullable = true)\n",
      " |-- disease: struct (nullable = true)\n",
      " |    |-- id: string (nullable = true)\n",
      " |    |-- reported_trait: string (nullable = true)\n",
      " |-- evidence: struct (nullable = true)\n",
      " |    |-- gene2variant: struct (nullable = true)\n",
      " |    |    |-- consequence_code: string (nullable = true)\n",
      " |    |    |-- date_asserted: string (nullable = true)\n",
      " |    |    |-- evidence_codes: array (nullable = true)\n",
      " |    |    |    |-- element: string (containsNull = true)\n",
      " |    |    |-- functional_consequence: string (nullable = true)\n",
      " |    |    |-- is_associated: boolean (nullable = true)\n",
      " |    |    |-- provenance_type: struct (nullable = true)\n",
      " |    |    |    |-- database: struct (nullable = true)\n",
      " |    |    |    |    |-- dbxref: struct (nullable = true)\n",
      " |    |    |    |    |    |-- id: string (nullable = true)\n",
      " |    |    |    |    |    |-- version: string (nullable = true)\n",
      " |    |    |    |    |-- id: string (nullable = true)\n",
      " |    |    |    |    |-- version: string (nullable = true)\n",
      " |    |    |    |-- expert: struct (nullable = true)\n",
      " |    |    |    |    |-- statement: string (nullable = true)\n",
      " |    |    |    |    |-- status: boolean (nullable = true)\n",
      " |    |    |    |-- literature: struct (nullable = true)\n",
      " |    |    |    |    |-- references: array (nullable = true)\n",
      " |    |    |    |    |    |-- element: struct (containsNull = true)\n",
      " |    |    |    |    |    |    |-- author: string (nullable = true)\n",
      " |    |    |    |    |    |    |-- lit_id: string (nullable = true)\n",
      " |    |    |    |    |    |    |-- year: long (nullable = true)\n",
      " |    |    |-- resource_score: struct (nullable = true)\n",
      " |    |    |    |-- method: struct (nullable = true)\n",
      " |    |    |    |    |-- description: string (nullable = true)\n",
      " |    |    |    |-- type: string (nullable = true)\n",
      " |    |    |    |-- value: double (nullable = true)\n",
      " |    |-- variant2disease: struct (nullable = true)\n",
      " |    |    |-- confidence_interval: string (nullable = true)\n",
      " |    |    |-- date_asserted: string (nullable = true)\n",
      " |    |    |-- evidence_codes: array (nullable = true)\n",
      " |    |    |    |-- element: string (containsNull = true)\n",
      " |    |    |-- gwas_sample_size: long (nullable = true)\n",
      " |    |    |-- is_associated: boolean (nullable = true)\n",
      " |    |    |-- odds_ratio: double (nullable = true)\n",
      " |    |    |-- provenance_type: struct (nullable = true)\n",
      " |    |    |    |-- database: struct (nullable = true)\n",
      " |    |    |    |    |-- dbxref: struct (nullable = true)\n",
      " |    |    |    |    |    |-- id: string (nullable = true)\n",
      " |    |    |    |    |    |-- version: string (nullable = true)\n",
      " |    |    |    |    |-- id: string (nullable = true)\n",
      " |    |    |    |    |-- version: string (nullable = true)\n",
      " |    |    |    |-- expert: struct (nullable = true)\n",
      " |    |    |    |    |-- statement: string (nullable = true)\n",
      " |    |    |    |    |-- status: boolean (nullable = true)\n",
      " |    |    |    |-- literature: struct (nullable = true)\n",
      " |    |    |    |    |-- references: array (nullable = true)\n",
      " |    |    |    |    |    |-- element: struct (containsNull = true)\n",
      " |    |    |    |    |    |    |-- author: string (nullable = true)\n",
      " |    |    |    |    |    |    |-- lit_id: string (nullable = true)\n",
      " |    |    |    |    |    |    |-- year: long (nullable = true)\n",
      " |    |    |-- reported_trait: string (nullable = true)\n",
      " |    |    |-- resource_score: struct (nullable = true)\n",
      " |    |    |    |-- exponent: long (nullable = true)\n",
      " |    |    |    |-- mantissa: long (nullable = true)\n",
      " |    |    |    |-- method: struct (nullable = true)\n",
      " |    |    |    |    |-- description: string (nullable = true)\n",
      " |    |    |    |-- type: string (nullable = true)\n",
      " |    |    |    |-- value: double (nullable = true)\n",
      " |    |    |-- study_link: string (nullable = true)\n",
      " |    |    |-- unique_experiment_reference: string (nullable = true)\n",
      " |-- sourceID: string (nullable = true)\n",
      " |-- target: struct (nullable = true)\n",
      " |    |-- activity: string (nullable = true)\n",
      " |    |-- id: string (nullable = true)\n",
      " |    |-- target_type: string (nullable = true)\n",
      " |-- type: string (nullable = true)\n",
      " |-- unique_association_fields: struct (nullable = true)\n",
      " |    |-- disease_id: string (nullable = true)\n",
      " |    |-- study: string (nullable = true)\n",
      " |    |-- target: string (nullable = true)\n",
      " |    |-- variant: string (nullable = true)\n",
      " |-- validated_against_schema_version: string (nullable = true)\n",
      " |-- variant: struct (nullable = true)\n",
      " |    |-- id: string (nullable = true)\n",
      " |    |-- rs_id: string (nullable = true)\n",
      " |    |-- source_link: string (nullable = true)\n",
      " |    |-- type: string (nullable = true)\n",
      " |    |-- type_link: string (nullable = true)\n",
      "\n"
     ]
    }
   ],
   "source": [
    "print(schema_new)"
   ]
  },
  {
   "cell_type": "code",
   "execution_count": 6,
   "metadata": {},
   "outputs": [
    {
     "name": "stdout",
     "output_type": "stream",
     "text": [
      "root\n",
      " |-- access_level: string (nullable = true)\n",
      " |-- disease: struct (nullable = true)\n",
      " |    |-- id: string (nullable = true)\n",
      " |-- evidence: struct (nullable = true)\n",
      " |    |-- gene2variant: struct (nullable = true)\n",
      " |    |    |-- date_asserted: string (nullable = true)\n",
      " |    |    |-- evidence_codes: array (nullable = true)\n",
      " |    |    |    |-- element: string (containsNull = true)\n",
      " |    |    |-- functional_consequence: string (nullable = true)\n",
      " |    |    |-- is_associated: boolean (nullable = true)\n",
      " |    |    |-- provenance_type: struct (nullable = true)\n",
      " |    |    |    |-- database: struct (nullable = true)\n",
      " |    |    |    |    |-- dbxref: struct (nullable = true)\n",
      " |    |    |    |    |    |-- id: string (nullable = true)\n",
      " |    |    |    |    |    |-- version: string (nullable = true)\n",
      " |    |    |    |    |-- id: string (nullable = true)\n",
      " |    |    |    |    |-- version: string (nullable = true)\n",
      " |    |    |    |-- expert: struct (nullable = true)\n",
      " |    |    |    |    |-- statement: string (nullable = true)\n",
      " |    |    |    |    |-- status: boolean (nullable = true)\n",
      " |    |-- variant2disease: struct (nullable = true)\n",
      " |    |    |-- confidence_interval: string (nullable = true)\n",
      " |    |    |-- date_asserted: string (nullable = true)\n",
      " |    |    |-- evidence_codes: array (nullable = true)\n",
      " |    |    |    |-- element: string (containsNull = true)\n",
      " |    |    |-- gwas_panel_resolution: long (nullable = true)\n",
      " |    |    |-- gwas_sample_size: long (nullable = true)\n",
      " |    |    |-- is_associated: boolean (nullable = true)\n",
      " |    |    |-- odds_ratio: string (nullable = true)\n",
      " |    |    |-- provenance_type: struct (nullable = true)\n",
      " |    |    |    |-- database: struct (nullable = true)\n",
      " |    |    |    |    |-- dbxref: struct (nullable = true)\n",
      " |    |    |    |    |    |-- id: string (nullable = true)\n",
      " |    |    |    |    |    |-- version: string (nullable = true)\n",
      " |    |    |    |    |-- id: string (nullable = true)\n",
      " |    |    |    |    |-- version: string (nullable = true)\n",
      " |    |    |    |-- expert: struct (nullable = true)\n",
      " |    |    |    |    |-- statement: string (nullable = true)\n",
      " |    |    |    |    |-- status: boolean (nullable = true)\n",
      " |    |    |    |-- literature: struct (nullable = true)\n",
      " |    |    |    |    |-- references: array (nullable = true)\n",
      " |    |    |    |    |    |-- element: struct (containsNull = true)\n",
      " |    |    |    |    |    |    |-- lit_id: string (nullable = true)\n",
      " |    |    |-- resource_score: struct (nullable = true)\n",
      " |    |    |    |-- exponent: long (nullable = true)\n",
      " |    |    |    |-- mantissa: long (nullable = true)\n",
      " |    |    |    |-- method: struct (nullable = true)\n",
      " |    |    |    |    |-- description: string (nullable = true)\n",
      " |    |    |    |-- type: string (nullable = true)\n",
      " |    |    |    |-- value: double (nullable = true)\n",
      " |    |    |-- unique_experiment_reference: string (nullable = true)\n",
      " |-- literature: struct (nullable = true)\n",
      " |    |-- references: array (nullable = true)\n",
      " |    |    |-- element: struct (containsNull = true)\n",
      " |    |    |    |-- lit_id: string (nullable = true)\n",
      " |-- sourceID: string (nullable = true)\n",
      " |-- target: struct (nullable = true)\n",
      " |    |-- activity: string (nullable = true)\n",
      " |    |-- id: string (nullable = true)\n",
      " |    |-- target_type: string (nullable = true)\n",
      " |-- type: string (nullable = true)\n",
      " |-- unique_association_fields: struct (nullable = true)\n",
      " |    |-- disease_id: string (nullable = true)\n",
      " |    |-- pubmed_refs: string (nullable = true)\n",
      " |    |-- pvalue_annotation: string (nullable = true)\n",
      " |    |-- study_name: string (nullable = true)\n",
      " |    |-- target: string (nullable = true)\n",
      " |    |-- variant: string (nullable = true)\n",
      " |-- validated_against_schema_version: string (nullable = true)\n",
      " |-- variant: struct (nullable = true)\n",
      " |    |-- id: string (nullable = true)\n",
      " |    |-- type: string (nullable = true)\n",
      "\n"
     ]
    }
   ],
   "source": [
    "print(schema_old)"
   ]
  },
  {
   "cell_type": "code",
   "execution_count": 4,
   "metadata": {},
   "outputs": [
    {
     "name": "stdout",
     "output_type": "stream",
     "text": [
      "5d4\n",
      "<  |    |-- reported_trait: string (nullable = true)\n",
      "8d6\n",
      "<  |    |    |-- consequence_code: string (nullable = true)\n",
      "24,34d21\n",
      "<  |    |    |    |-- literature: struct (nullable = true)\n",
      "<  |    |    |    |    |-- references: array (nullable = true)\n",
      "<  |    |    |    |    |    |-- element: struct (containsNull = true)\n",
      "<  |    |    |    |    |    |    |-- author: string (nullable = true)\n",
      "<  |    |    |    |    |    |    |-- lit_id: string (nullable = true)\n",
      "<  |    |    |    |    |    |    |-- year: long (nullable = true)\n",
      "<  |    |    |-- resource_score: struct (nullable = true)\n",
      "<  |    |    |    |-- method: struct (nullable = true)\n",
      "<  |    |    |    |    |-- description: string (nullable = true)\n",
      "<  |    |    |    |-- type: string (nullable = true)\n",
      "<  |    |    |    |-- value: double (nullable = true)\n",
      "39a27\n",
      ">  |    |    |-- gwas_panel_resolution: long (nullable = true)\n",
      "42c30\n",
      "<  |    |    |-- odds_ratio: double (nullable = true)\n",
      "---\n",
      ">  |    |    |-- odds_ratio: string (nullable = true)\n",
      "56d43\n",
      "<  |    |    |    |    |    |    |-- author: string (nullable = true)\n",
      "58,59d44\n",
      "<  |    |    |    |    |    |    |-- year: long (nullable = true)\n",
      "<  |    |    |-- reported_trait: string (nullable = true)\n",
      "67d51\n",
      "<  |    |    |-- study_link: string (nullable = true)\n",
      "68a53,56\n",
      ">  |-- literature: struct (nullable = true)\n",
      ">  |    |-- references: array (nullable = true)\n",
      ">  |    |    |-- element: struct (containsNull = true)\n",
      ">  |    |    |    |-- lit_id: string (nullable = true)\n",
      "77c65,67\n",
      "<  |    |-- study: string (nullable = true)\n",
      "---\n",
      ">  |    |-- pubmed_refs: string (nullable = true)\n",
      ">  |    |-- pvalue_annotation: string (nullable = true)\n",
      ">  |    |-- study_name: string (nullable = true)\n",
      "83,84d72\n",
      "<  |    |-- rs_id: string (nullable = true)\n",
      "<  |    |-- source_link: string (nullable = true)\n",
      "86d73\n",
      "<  |    |-- type_link: string (nullable = true)\n"
     ]
    }
   ],
   "source": [
    "# Schema diff\n",
    "with open('/tmp/schema_new.txt', 'w') as f:\n",
    "    f.write(schema_new)\n",
    "with open('/tmp/schema_old.txt', 'w') as f:\n",
    "    f.write(schema_old)\n",
    "!diff /tmp/schema_new.txt /tmp/schema_old.txt"
   ]
  },
  {
   "cell_type": "markdown",
   "metadata": {},
   "source": [
    "### Field Stats"
   ]
  },
  {
   "cell_type": "code",
   "execution_count": 10,
   "metadata": {},
   "outputs": [
    {
     "name": "stdout",
     "output_type": "stream",
     "text": [
      "+-----------------------+------+\n",
      "|(variant.rs_id IS NULL)| count|\n",
      "+-----------------------+------+\n",
      "|                   true|  2797|\n",
      "|                  false|390435|\n",
      "+-----------------------+------+\n",
      "\n"
     ]
    }
   ],
   "source": [
    "df.groupBy(F.col('variant.rs_id').isNull()).count().show()"
   ]
  },
  {
   "cell_type": "code",
   "execution_count": 11,
   "metadata": {},
   "outputs": [
    {
     "name": "stdout",
     "output_type": "stream",
     "text": [
      "+-------------+-------------+------+\n",
      "|is_associated|is_associated| count|\n",
      "+-------------+-------------+------+\n",
      "|         true|         true|393232|\n",
      "+-------------+-------------+------+\n",
      "\n"
     ]
    }
   ],
   "source": [
    "df.groupBy('evidence.gene2variant.is_associated', 'evidence.variant2disease.is_associated').count().show()"
   ]
  },
  {
   "cell_type": "code",
   "execution_count": 12,
   "metadata": {},
   "outputs": [
    {
     "name": "stdout",
     "output_type": "stream",
     "text": [
      "+-------------------------------------------------+------+\n",
      "|                                              col| count|\n",
      "+-------------------------------------------------+------+\n",
      "|http://identifiers.org/eco/locus_to_gene_pipeline|393232|\n",
      "|       http://purl.obolibrary.org/obo/ECO_0000362|393232|\n",
      "+-------------------------------------------------+------+\n",
      "\n"
     ]
    }
   ],
   "source": [
    "df.select(F.explode('evidence.gene2variant.evidence_codes')).groupBy('col').count().show(truncate=50)"
   ]
  },
  {
   "cell_type": "code",
   "execution_count": 13,
   "metadata": {},
   "outputs": [
    {
     "name": "stdout",
     "output_type": "stream",
     "text": [
      "+------------------------------------------+------+\n",
      "|                                       col| count|\n",
      "+------------------------------------------+------+\n",
      "|           http://identifiers.org/eco/GWAS|393232|\n",
      "|http://purl.obolibrary.org/obo/ECO_0000362|393232|\n",
      "+------------------------------------------+------+\n",
      "\n"
     ]
    }
   ],
   "source": [
    "df.select(F.explode('evidence.variant2disease.evidence_codes')).groupBy('col').count().show(truncate=50)"
   ]
  },
  {
   "cell_type": "code",
   "execution_count": 38,
   "metadata": {},
   "outputs": [
    {
     "name": "stdout",
     "output_type": "stream",
     "text": [
      "+--------------------------------------------------+------+\n",
      "|                                       description| count|\n",
      "+--------------------------------------------------+------+\n",
      "|Locus to gene score generated by OpenTargets Ge...|393232|\n",
      "+--------------------------------------------------+------+\n",
      "\n"
     ]
    }
   ],
   "source": [
    "df.groupBy('evidence.gene2variant.resource_score.method.description').count().show(truncate=50)"
   ]
  },
  {
   "cell_type": "code",
   "execution_count": 14,
   "metadata": {},
   "outputs": [
    {
     "name": "stdout",
     "output_type": "stream",
     "text": [
      "+-----------------------------------------+------+\n",
      "|                              description| count|\n",
      "+-----------------------------------------+------+\n",
      "|pvalue for the snp to disease association|393232|\n",
      "+-----------------------------------------+------+\n",
      "\n"
     ]
    }
   ],
   "source": [
    "df.groupBy('evidence.variant2disease.resource_score.method.description').count().show(truncate=50)"
   ]
  },
  {
   "cell_type": "code",
   "execution_count": 39,
   "metadata": {},
   "outputs": [
    {
     "name": "stdout",
     "output_type": "stream",
     "text": [
      "+-------------------------------------------------------+------+\n",
      "|(evidence.variant2disease.resource_score.value IS NULL)| count|\n",
      "+-------------------------------------------------------+------+\n",
      "|                                                  false|393232|\n",
      "+-------------------------------------------------------+------+\n",
      "\n"
     ]
    }
   ],
   "source": [
    "df.groupBy(F.col('evidence.variant2disease.resource_score.value').isNull()).count().show(truncate=50)"
   ]
  },
  {
   "cell_type": "code",
   "execution_count": 41,
   "metadata": {},
   "outputs": [
    {
     "name": "stdout",
     "output_type": "stream",
     "text": [
      "+--------------------------------------------------+--------------------------------------------------+\n",
      "|min(evidence.variant2disease.resource_score.value)|max(evidence.variant2disease.resource_score.value)|\n",
      "+--------------------------------------------------+--------------------------------------------------+\n",
      "|                                          1.0E-302|                              5.000000000000001E-8|\n",
      "+--------------------------------------------------+--------------------------------------------------+\n",
      "\n"
     ]
    }
   ],
   "source": [
    "df.agg(\n",
    "    F.min(F.col('evidence.variant2disease.resource_score.value')),\n",
    "    F.max(F.col('evidence.variant2disease.resource_score.value'))\n",
    ").show()"
   ]
  },
  {
   "cell_type": "code",
   "execution_count": 15,
   "metadata": {},
   "outputs": [
    {
     "name": "stdout",
     "output_type": "stream",
     "text": [
      "+------+------+\n",
      "|  type| count|\n",
      "+------+------+\n",
      "|pvalue|393232|\n",
      "+------+------+\n",
      "\n"
     ]
    }
   ],
   "source": [
    "df.groupBy('evidence.variant2disease.resource_score.type').count().show(truncate=50)"
   ]
  },
  {
   "cell_type": "code",
   "execution_count": 16,
   "metadata": {},
   "outputs": [
    {
     "name": "stdout",
     "output_type": "stream",
     "text": [
      "+-----------------------------+------+\n",
      "|                    statement| count|\n",
      "+-----------------------------+------+\n",
      "|Primary submitter of the data|393232|\n",
      "+-----------------------------+------+\n",
      "\n"
     ]
    }
   ],
   "source": [
    "df.groupBy('evidence.variant2disease.provenance_type.expert.statement').count().show(truncate=50)"
   ]
  },
  {
   "cell_type": "code",
   "execution_count": 17,
   "metadata": {},
   "outputs": [
    {
     "name": "stdout",
     "output_type": "stream",
     "text": [
      "+------+------+\n",
      "|status| count|\n",
      "+------+------+\n",
      "|  true|393232|\n",
      "+------+------+\n",
      "\n"
     ]
    }
   ],
   "source": [
    "df.groupBy('evidence.variant2disease.provenance_type.expert.status').count().show(truncate=50)"
   ]
  },
  {
   "cell_type": "code",
   "execution_count": 18,
   "metadata": {},
   "outputs": [
    {
     "name": "stdout",
     "output_type": "stream",
     "text": [
      "+--------------------------------------------------+-----+\n",
      "|                                    reported_trait|count|\n",
      "+--------------------------------------------------+-----+\n",
      "|                        6mm strong meridian (left)|  401|\n",
      "|  Estimated glomerular filtration rate in diabetes|  168|\n",
      "|LDL cholesterol levels x alcohol consumption (r...|   26|\n",
      "|Chickenpox | non-cancer illness code, self-repo...|    8|\n",
      "|Chronic obstructive pulmonary disease [conditio...|    4|\n",
      "+--------------------------------------------------+-----+\n",
      "only showing top 5 rows\n",
      "\n"
     ]
    }
   ],
   "source": [
    "df.groupBy('evidence.variant2disease.reported_trait').count().show(5, truncate=50)"
   ]
  },
  {
   "cell_type": "code",
   "execution_count": 19,
   "metadata": {},
   "outputs": [
    {
     "name": "stdout",
     "output_type": "stream",
     "text": [
      "+-------------------+------+\n",
      "|               type| count|\n",
      "+-------------------+------+\n",
      "|genetic_association|393232|\n",
      "+-------------------+------+\n",
      "\n"
     ]
    }
   ],
   "source": [
    "df.groupBy('type').count().show()"
   ]
  },
  {
   "cell_type": "code",
   "execution_count": 20,
   "metadata": {},
   "outputs": [
    {
     "name": "stdout",
     "output_type": "stream",
     "text": [
      "+---------+------+\n",
      "|     type| count|\n",
      "+---------+------+\n",
      "|      SNP|362375|\n",
      "|insertion| 16486|\n",
      "| deletion| 14371|\n",
      "+---------+------+\n",
      "\n"
     ]
    }
   ],
   "source": [
    "df.groupBy('variant.type').count().show()"
   ]
  },
  {
   "cell_type": "code",
   "execution_count": 21,
   "metadata": {},
   "outputs": [
    {
     "name": "stdout",
     "output_type": "stream",
     "text": [
      "+--------------------------------------------------------+-----+\n",
      "|                                             source_link|count|\n",
      "+--------------------------------------------------------+-----+\n",
      "|https://genetics.opentargets.org/variant/5_139715518_G_T|    2|\n",
      "| https://genetics.opentargets.org/variant/5_40392626_T_C|   10|\n",
      "|https://genetics.opentargets.org/variant/19_44908822_C_T|  265|\n",
      "+--------------------------------------------------------+-----+\n",
      "only showing top 3 rows\n",
      "\n"
     ]
    }
   ],
   "source": [
    "df.groupBy('variant.source_link').count().show(3, truncate=100)"
   ]
  },
  {
   "cell_type": "code",
   "execution_count": 22,
   "metadata": {},
   "outputs": [
    {
     "name": "stdout",
     "output_type": "stream",
     "text": [
      "+------------------------------------------------+------+\n",
      "|                                     target_type| count|\n",
      "+------------------------------------------------+------+\n",
      "|http://identifiers.org/cttv.target/gene_evidence|393232|\n",
      "+------------------------------------------------+------+\n",
      "\n"
     ]
    }
   ],
   "source": [
    "df.groupBy('target.target_type').count().show(3, truncate=100)"
   ]
  },
  {
   "cell_type": "code",
   "execution_count": 23,
   "metadata": {},
   "outputs": [
    {
     "name": "stdout",
     "output_type": "stream",
     "text": [
      "+-------------------------------------------------------+------+\n",
      "|                                               activity| count|\n",
      "+-------------------------------------------------------+------+\n",
      "|http://identifiers.org/cttv.activity/predicted_damaging|393232|\n",
      "+-------------------------------------------------------+------+\n",
      "\n"
     ]
    }
   ],
   "source": [
    "df.groupBy('target.activity').count().show(3, truncate=100)"
   ]
  },
  {
   "cell_type": "code",
   "execution_count": 24,
   "metadata": {},
   "outputs": [
    {
     "name": "stdout",
     "output_type": "stream",
     "text": [
      "+------------------+------+\n",
      "|          sourceID| count|\n",
      "+------------------+------+\n",
      "|ot_genetics_portal|393232|\n",
      "+------------------+------+\n",
      "\n"
     ]
    }
   ],
   "source": [
    "df.groupBy('sourceID').count().show(3, truncate=100)"
   ]
  },
  {
   "cell_type": "markdown",
   "metadata": {},
   "source": [
    "#### Variant Consequence"
   ]
  },
  {
   "cell_type": "code",
   "execution_count": 35,
   "metadata": {},
   "outputs": [
    {
     "name": "stdout",
     "output_type": "stream",
     "text": [
      "+-----------------------------------------+------+\n",
      "|functional_consequence                   |count |\n",
      "+-----------------------------------------+------+\n",
      "|http://purl.obolibrary.org/obo/SO_0001628|290094|\n",
      "|http://purl.obolibrary.org/obo/SO_0001627|67178 |\n",
      "|http://purl.obolibrary.org/obo/SO_0001631|11168 |\n",
      "+-----------------------------------------+------+\n",
      "only showing top 3 rows\n",
      "\n"
     ]
    }
   ],
   "source": [
    "df.groupBy('evidence.gene2variant.functional_consequence').count().sort(F.col('count').desc()).show(3, truncate=False)"
   ]
  },
  {
   "cell_type": "code",
   "execution_count": 37,
   "metadata": {},
   "outputs": [
    {
     "name": "stdout",
     "output_type": "stream",
     "text": [
      "|    | consequence_code                   |   count |\n",
      "|---:|:-----------------------------------|--------:|\n",
      "|  0 | intergenic_variant                 |  290094 |\n",
      "|  1 | intron_variant                     |   67178 |\n",
      "|  2 | upstream_gene_variant              |   11168 |\n",
      "|  3 | downstream_gene_variant            |   10411 |\n",
      "|  4 | missense_variant                   |    8036 |\n",
      "|  5 | 3_prime_UTR_variant                |    3699 |\n",
      "|  6 | synonymous_variant                 |    1202 |\n",
      "|  7 | 5_prime_UTR_variant                |     877 |\n",
      "|  8 | splice_region_variant              |     338 |\n",
      "|  9 | non_coding_transcript_exon_variant |      82 |\n",
      "| 10 | stop_gained                        |      50 |\n",
      "| 11 | splice_donor_variant               |      23 |\n",
      "| 12 | inframe_deletion                   |      22 |\n",
      "| 13 | frameshift_variant                 |      21 |\n",
      "| 14 | inframe_insertion                  |      20 |\n",
      "| 15 | splice_acceptor_variant            |       5 |\n",
      "| 16 | start_lost                         |       4 |\n",
      "| 17 | coding_sequence_variant            |       2 |\n"
     ]
    }
   ],
   "source": [
    "print(df.groupBy('evidence.gene2variant.consequence_code').count().sort(F.col('count').desc()).toPandas().to_markdown())"
   ]
  },
  {
   "cell_type": "markdown",
   "metadata": {},
   "source": [
    "#### Studies"
   ]
  },
  {
   "cell_type": "code",
   "execution_count": 25,
   "metadata": {},
   "outputs": [
    {
     "name": "stdout",
     "output_type": "stream",
     "text": [
      "+-------------------------------------------------------+-----+\n",
      "|                                                  study|count|\n",
      "+-------------------------------------------------------+-----+\n",
      "|   https://genetics.opentargets.org/study/NEALE2_50_raw| 3917|\n",
      "|      https://genetics.opentargets.org/study/GCST007841| 3239|\n",
      "|      https://genetics.opentargets.org/study/GCST006571| 2755|\n",
      "|https://genetics.opentargets.org/study/NEALE2_20015_raw| 2611|\n",
      "|      https://genetics.opentargets.org/study/GCST006979| 2413|\n",
      "|      https://genetics.opentargets.org/study/GCST006568| 2287|\n",
      "|https://genetics.opentargets.org/study/NEALE2_23129_raw| 2090|\n",
      "|      https://genetics.opentargets.org/study/GCST007069| 2071|\n",
      "|https://genetics.opentargets.org/study/NEALE2_23130_raw| 2038|\n",
      "|https://genetics.opentargets.org/study/NEALE2_30100_raw| 1990|\n",
      "|https://genetics.opentargets.org/study/NEALE2_30080_raw| 1990|\n",
      "|      https://genetics.opentargets.org/study/GCST005537| 1985|\n",
      "|https://genetics.opentargets.org/study/NEALE2_23102_raw| 1956|\n",
      "|https://genetics.opentargets.org/study/NEALE2_23101_raw| 1931|\n",
      "|      https://genetics.opentargets.org/study/GCST007039| 1920|\n",
      "|     https://genetics.opentargets.org/study/NEALE2_1697| 1857|\n",
      "|https://genetics.opentargets.org/study/NEALE2_23105_raw| 1849|\n",
      "|      https://genetics.opentargets.org/study/GCST007068| 1840|\n",
      "|      https://genetics.opentargets.org/study/GCST007066| 1809|\n",
      "|      https://genetics.opentargets.org/study/GCST007074| 1795|\n",
      "|      https://genetics.opentargets.org/study/GCST007065| 1792|\n",
      "|      https://genetics.opentargets.org/study/GCST007070| 1759|\n",
      "|      https://genetics.opentargets.org/study/GCST006287| 1728|\n",
      "|https://genetics.opentargets.org/study/NEALE2_30090_raw| 1708|\n",
      "|https://genetics.opentargets.org/study/NEALE2_23114_raw| 1693|\n",
      "+-------------------------------------------------------+-----+\n",
      "only showing top 25 rows\n",
      "\n"
     ]
    }
   ],
   "source": [
    "df.groupBy('unique_association_fields.study').count().sort(F.col('count').desc()).show(25, truncate=100)"
   ]
  },
  {
   "cell_type": "code",
   "execution_count": 29,
   "metadata": {},
   "outputs": [
    {
     "name": "stdout",
     "output_type": "stream",
     "text": [
      "+------+------+\n",
      "|prefix| count|\n",
      "+------+------+\n",
      "| NEALE|123153|\n",
      "| SAIGE|  5313|\n",
      "| GCST0|264766|\n",
      "+------+------+\n",
      "\n"
     ]
    }
   ],
   "source": [
    "(\n",
    "    df\n",
    "    .select(F.element_at(F.split(F.col('unique_association_fields.study'), '/'), -1).alias('study'))\n",
    "    .withColumn('prefix', F.col('study').substr(1, 5))\n",
    "    .groupBy('prefix').count().show()\n",
    ")"
   ]
  },
  {
   "cell_type": "code",
   "execution_count": 30,
   "metadata": {},
   "outputs": [
    {
     "name": "stdout",
     "output_type": "stream",
     "text": [
      "+--------------------------------------------------+\n",
      "|study                                             |\n",
      "+--------------------------------------------------+\n",
      "|https://genetics.opentargets.org/study/SAIGE_454_1|\n",
      "|https://genetics.opentargets.org/study/SAIGE_415  |\n",
      "|https://genetics.opentargets.org/study/SAIGE_740_1|\n",
      "|https://genetics.opentargets.org/study/SAIGE_240  |\n",
      "|https://genetics.opentargets.org/study/SAIGE_208  |\n",
      "+--------------------------------------------------+\n",
      "only showing top 5 rows\n",
      "\n"
     ]
    }
   ],
   "source": [
    "(\n",
    "    df.filter(F.col('unique_association_fields.study').contains('SAIGE'))\n",
    "    .select('unique_association_fields.study')\n",
    "    .show(5, truncate=False)\n",
    ")"
   ]
  },
  {
   "cell_type": "code",
   "execution_count": 26,
   "metadata": {},
   "outputs": [
    {
     "name": "stdout",
     "output_type": "stream",
     "text": [
      "+------+------+\n",
      "|prefix| count|\n",
      "+------+------+\n",
      "|NEALE2|123153|\n",
      "+------+------+\n",
      "\n"
     ]
    }
   ],
   "source": [
    "(\n",
    "    df\n",
    "    .filter(F.col('unique_association_fields.study').contains('NEALE'))\n",
    "    .select(F.element_at(F.split(F.col('unique_association_fields.study'), '/'), -1).alias('study'))\n",
    "    .withColumn('prefix', F.element_at(F.split(F.col('study'), '_'), 1))\n",
    "    .groupBy('prefix').count().show()\n",
    ")"
   ]
  }
 ],
 "metadata": {
  "kernelspec": {
   "display_name": "Python 3",
   "language": "python",
   "name": "python3"
  },
  "language_info": {
   "codemirror_mode": {
    "name": "ipython",
    "version": 3
   },
   "file_extension": ".py",
   "mimetype": "text/x-python",
   "name": "python",
   "nbconvert_exporter": "python",
   "pygments_lexer": "ipython3",
   "version": "3.7.6"
  },
  "toc-showmarkdowntxt": false
 },
 "nbformat": 4,
 "nbformat_minor": 4
}
