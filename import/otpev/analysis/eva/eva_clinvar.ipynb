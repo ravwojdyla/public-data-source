{
 "cells": [
  {
   "cell_type": "markdown",
   "metadata": {},
   "source": [
    "## EVA / Clinvar Comparison\n",
    "\n",
    "Compares ClinVar record accessions in EVA OTP evidence strings to raw ClinVar downloads. "
   ]
  },
  {
   "cell_type": "code",
   "execution_count": 1,
   "metadata": {},
   "outputs": [],
   "source": [
    "from dotenv import load_dotenv; load_dotenv()\n",
    "from data_source import catalog\n",
    "from pyspark.sql import SparkSession\n",
    "from pyspark.sql import functions as F\n",
    "from IPython.display import JSON\n",
    "import pandas as pd\n",
    "import json\n",
    "spark = SparkSession.builder.getOrCreate()\n",
    "cat = catalog.load()"
   ]
  },
  {
   "cell_type": "code",
   "execution_count": 25,
   "metadata": {},
   "outputs": [],
   "source": [
    "from IPython.display import JSON\n",
    "def pjson(df, **kwargs):\n",
    "    return JSON(json.loads(df.toJSON().take(1)[0]), **kwargs)"
   ]
  },
  {
   "cell_type": "markdown",
   "metadata": {},
   "source": [
    "### EVA"
   ]
  },
  {
   "cell_type": "code",
   "execution_count": 9,
   "metadata": {},
   "outputs": [
    {
     "data": {
      "text/plain": [
       "'/tmp/data_source_cache/otpev/eva/v20.06/20200616T000000/data.parquet'"
      ]
     },
     "execution_count": 9,
     "metadata": {},
     "output_type": "execute_result"
    }
   ],
   "source": [
    "path = cat.download('otpev', 'eva', version='v20.06')\n",
    "path"
   ]
  },
  {
   "cell_type": "code",
   "execution_count": 60,
   "metadata": {},
   "outputs": [
    {
     "name": "stdout",
     "output_type": "stream",
     "text": [
      "root\n",
      " |-- access_level: string (nullable = true)\n",
      " |-- disease: struct (nullable = true)\n",
      " |    |-- id: string (nullable = true)\n",
      " |    |-- name: string (nullable = true)\n",
      " |    |-- source_name: string (nullable = true)\n",
      " |-- evidence: struct (nullable = true)\n",
      " |    |-- clinical_significance: string (nullable = true)\n",
      " |    |-- date_asserted: string (nullable = true)\n",
      " |    |-- evidence_codes: array (nullable = true)\n",
      " |    |    |-- element: string (containsNull = true)\n",
      " |    |-- gene2variant: struct (nullable = true)\n",
      " |    |    |-- date_asserted: string (nullable = true)\n",
      " |    |    |-- evidence_codes: array (nullable = true)\n",
      " |    |    |    |-- element: string (containsNull = true)\n",
      " |    |    |-- functional_consequence: string (nullable = true)\n",
      " |    |    |-- is_associated: boolean (nullable = true)\n",
      " |    |    |-- provenance_type: struct (nullable = true)\n",
      " |    |    |    |-- database: struct (nullable = true)\n",
      " |    |    |    |    |-- dbxref: struct (nullable = true)\n",
      " |    |    |    |    |    |-- id: string (nullable = true)\n",
      " |    |    |    |    |    |-- url: string (nullable = true)\n",
      " |    |    |    |    |    |-- version: string (nullable = true)\n",
      " |    |    |    |    |-- id: string (nullable = true)\n",
      " |    |    |    |    |-- version: string (nullable = true)\n",
      " |    |    |    |-- expert: struct (nullable = true)\n",
      " |    |    |    |    |-- statement: string (nullable = true)\n",
      " |    |    |    |    |-- status: boolean (nullable = true)\n",
      " |    |    |-- resource_score: struct (nullable = true)\n",
      " |    |    |    |-- method: struct (nullable = true)\n",
      " |    |    |    |    |-- description: string (nullable = true)\n",
      " |    |    |    |-- type: string (nullable = true)\n",
      " |    |    |    |-- value: double (nullable = true)\n",
      " |    |    |-- urls: array (nullable = true)\n",
      " |    |    |    |-- element: struct (containsNull = true)\n",
      " |    |    |    |    |-- nice_name: string (nullable = true)\n",
      " |    |    |    |    |-- url: string (nullable = true)\n",
      " |    |-- is_associated: boolean (nullable = true)\n",
      " |    |-- known_mutations: array (nullable = true)\n",
      " |    |    |-- element: struct (containsNull = true)\n",
      " |    |    |    |-- functional_consequence: string (nullable = true)\n",
      " |    |    |    |-- preferred_name: string (nullable = true)\n",
      " |    |-- provenance_type: struct (nullable = true)\n",
      " |    |    |-- database: struct (nullable = true)\n",
      " |    |    |    |-- dbxref: struct (nullable = true)\n",
      " |    |    |    |    |-- id: string (nullable = true)\n",
      " |    |    |    |    |-- url: string (nullable = true)\n",
      " |    |    |    |    |-- version: string (nullable = true)\n",
      " |    |    |    |-- id: string (nullable = true)\n",
      " |    |    |    |-- version: string (nullable = true)\n",
      " |    |    |-- expert: struct (nullable = true)\n",
      " |    |    |    |-- statement: string (nullable = true)\n",
      " |    |    |    |-- status: boolean (nullable = true)\n",
      " |    |    |-- literature: struct (nullable = true)\n",
      " |    |    |    |-- references: array (nullable = true)\n",
      " |    |    |    |    |-- element: struct (containsNull = true)\n",
      " |    |    |    |    |    |-- lit_id: string (nullable = true)\n",
      " |    |-- resource_score: struct (nullable = true)\n",
      " |    |    |-- type: string (nullable = true)\n",
      " |    |    |-- value: long (nullable = true)\n",
      " |    |-- urls: array (nullable = true)\n",
      " |    |    |-- element: struct (containsNull = true)\n",
      " |    |    |    |-- nice_name: string (nullable = true)\n",
      " |    |    |    |-- url: string (nullable = true)\n",
      " |    |-- variant2disease: struct (nullable = true)\n",
      " |    |    |-- clinical_significance: string (nullable = true)\n",
      " |    |    |-- date_asserted: string (nullable = true)\n",
      " |    |    |-- evidence_codes: array (nullable = true)\n",
      " |    |    |    |-- element: string (containsNull = true)\n",
      " |    |    |-- is_associated: boolean (nullable = true)\n",
      " |    |    |-- provenance_type: struct (nullable = true)\n",
      " |    |    |    |-- database: struct (nullable = true)\n",
      " |    |    |    |    |-- dbxref: struct (nullable = true)\n",
      " |    |    |    |    |    |-- id: string (nullable = true)\n",
      " |    |    |    |    |    |-- url: string (nullable = true)\n",
      " |    |    |    |    |    |-- version: string (nullable = true)\n",
      " |    |    |    |    |-- id: string (nullable = true)\n",
      " |    |    |    |    |-- version: string (nullable = true)\n",
      " |    |    |    |-- expert: struct (nullable = true)\n",
      " |    |    |    |    |-- statement: string (nullable = true)\n",
      " |    |    |    |    |-- status: boolean (nullable = true)\n",
      " |    |    |    |-- literature: struct (nullable = true)\n",
      " |    |    |    |    |-- references: array (nullable = true)\n",
      " |    |    |    |    |    |-- element: struct (containsNull = true)\n",
      " |    |    |    |    |    |    |-- lit_id: string (nullable = true)\n",
      " |    |    |-- resource_score: struct (nullable = true)\n",
      " |    |    |    |-- method: struct (nullable = true)\n",
      " |    |    |    |    |-- description: string (nullable = true)\n",
      " |    |    |    |-- type: string (nullable = true)\n",
      " |    |    |    |-- value: double (nullable = true)\n",
      " |    |    |-- unique_experiment_reference: string (nullable = true)\n",
      " |    |    |-- urls: array (nullable = true)\n",
      " |    |    |    |-- element: struct (containsNull = true)\n",
      " |    |    |    |    |-- nice_name: string (nullable = true)\n",
      " |    |    |    |    |-- url: string (nullable = true)\n",
      " |-- literature: struct (nullable = true)\n",
      " |    |-- references: array (nullable = true)\n",
      " |    |    |-- element: struct (containsNull = true)\n",
      " |    |    |    |-- lit_id: string (nullable = true)\n",
      " |-- sourceID: string (nullable = true)\n",
      " |-- target: struct (nullable = true)\n",
      " |    |-- activity: string (nullable = true)\n",
      " |    |-- id: string (nullable = true)\n",
      " |    |-- target_type: string (nullable = true)\n",
      " |-- type: string (nullable = true)\n",
      " |-- unique_association_fields: struct (nullable = true)\n",
      " |    |-- alleleOrigin: string (nullable = true)\n",
      " |    |-- clinvarAccession: string (nullable = true)\n",
      " |    |-- gene: string (nullable = true)\n",
      " |    |-- phenotype: string (nullable = true)\n",
      " |    |-- variant_id: string (nullable = true)\n",
      " |-- validated_against_schema_version: string (nullable = true)\n",
      " |-- variant: struct (nullable = true)\n",
      " |    |-- id: string (nullable = true)\n",
      " |    |-- type: string (nullable = true)\n",
      "\n"
     ]
    }
   ],
   "source": [
    "df = spark.read.parquet(path)\n",
    "df.printSchema()"
   ]
  },
  {
   "cell_type": "code",
   "execution_count": 38,
   "metadata": {},
   "outputs": [
    {
     "data": {
      "application/json": {
       "access_level": "public",
       "disease": {
        "id": "http://www.orpha.net/ORDO/Orphanet_270",
        "name": "Oculopharyngeal muscular dystrophy",
        "source_name": "oculopharyngeal muscular dystrophy"
       },
       "evidence": {
        "gene2variant": {
         "date_asserted": "2019-03-30T00:00:00",
         "evidence_codes": [
          "http://identifiers.org/eco/cttv_mapping_pipeline"
         ],
         "functional_consequence": "http://purl.obolibrary.org/obo/SO_0002165",
         "is_associated": true,
         "provenance_type": {
          "database": {
           "dbxref": {
            "id": "http://identifiers.org/clinvar",
            "url": "http://identifiers.org/clinvar.record/RCV000007792",
            "version": "2017-08"
           },
           "id": "EVA",
           "version": "1.0"
          },
          "expert": {
           "statement": "Primary submitter of data",
           "status": true
          }
         },
         "resource_score": {
          "method": {
           "description": "Not provided by data supplier"
          },
          "type": "pvalue",
          "value": 1e-07
         },
         "urls": [
          {
           "nice_name": "Further details in ClinVar database",
           "url": "http://www.ncbi.nlm.nih.gov/clinvar/RCV000007792"
          }
         ]
        },
        "variant2disease": {
         "clinical_significance": "Pathogenic",
         "date_asserted": "2019-03-30T00:00:00",
         "evidence_codes": [
          "http://purl.obolibrary.org/obo/ECO_0000205"
         ],
         "is_associated": true,
         "provenance_type": {
          "database": {
           "dbxref": {
            "id": "http://identifiers.org/clinvar",
            "url": "http://identifiers.org/clinvar.record/RCV000007792",
            "version": "2017-08"
           },
           "id": "EVA",
           "version": "1.0"
          },
          "expert": {
           "statement": "Primary submitter of data",
           "status": true
          },
          "literature": {
           "references": [
            {
             "lit_id": "http://europepmc.org/abstract/MED/20301305"
            },
            {
             "lit_id": "http://europepmc.org/abstract/MED/9462747"
            }
           ]
          }
         },
         "resource_score": {
          "method": {
           "description": "Not provided by data supplier"
          },
          "type": "pvalue",
          "value": 1e-07
         },
         "unique_experiment_reference": "http://europepmc.org/abstract/MED/20301305",
         "urls": [
          {
           "nice_name": "Further details in ClinVar database",
           "url": "http://www.ncbi.nlm.nih.gov/clinvar/RCV000007792"
          }
         ]
        }
       },
       "literature": {
        "references": [
         {
          "lit_id": "http://europepmc.org/abstract/MED/20301305"
         },
         {
          "lit_id": "http://europepmc.org/abstract/MED/9462747"
         }
        ]
       },
       "sourceID": "eva",
       "target": {
        "activity": "http://identifiers.org/cttv.activity/unknown",
        "id": "http://identifiers.org/ensembl/ENSG00000100836",
        "target_type": "http://identifiers.org/cttv.target/gene_variant"
       },
       "type": "genetic_association",
       "unique_association_fields": {
        "alleleOrigin": "germline",
        "clinvarAccession": "RCV000007792",
        "gene": "ENSG00000100836",
        "phenotype": "http://www.orpha.net/ORDO/Orphanet_270",
        "variant_id": "RCV000007792"
       },
       "validated_against_schema_version": "1.6.7",
       "variant": {
        "id": "http://www.ncbi.nlm.nih.gov/clinvar/RCV000007792",
        "type": "snp single"
       }
      },
      "text/plain": [
       "<IPython.core.display.JSON object>"
      ]
     },
     "execution_count": 38,
     "metadata": {
      "application/json": {
       "expanded": true,
       "root": "root"
      }
     },
     "output_type": "execute_result"
    }
   ],
   "source": [
    "pjson(df, expanded=True)"
   ]
  },
  {
   "cell_type": "code",
   "execution_count": 61,
   "metadata": {},
   "outputs": [
    {
     "name": "stdout",
     "output_type": "stream",
     "text": [
      "+---------------------+-----+\n",
      "|clinical_significance|count|\n",
      "+---------------------+-----+\n",
      "|                 null| 8232|\n",
      "|              Affects|  112|\n",
      "|          association|  153|\n",
      "|           protective|   30|\n",
      "|        drug response| 4595|\n",
      "|    Likely pathogenic|30683|\n",
      "|           Pathogenic|81333|\n",
      "+---------------------+-----+\n",
      "\n"
     ]
    }
   ],
   "source": [
    "df.groupBy('evidence.variant2disease.clinical_significance').count().show()"
   ]
  },
  {
   "cell_type": "code",
   "execution_count": 67,
   "metadata": {},
   "outputs": [
    {
     "data": {
      "text/plain": [
       "0                 None\n",
       "1              affects\n",
       "2          association\n",
       "3           protective\n",
       "4        drug response\n",
       "5    likely pathogenic\n",
       "6           pathogenic\n",
       "Name: clinical_significance, dtype: object"
      ]
     },
     "execution_count": 67,
     "metadata": {},
     "output_type": "execute_result"
    }
   ],
   "source": [
    "csigs = df.select('evidence.variant2disease.clinical_significance').dropDuplicates().toPandas().iloc[:,0].str.lower()\n",
    "csigs"
   ]
  },
  {
   "cell_type": "code",
   "execution_count": 52,
   "metadata": {},
   "outputs": [],
   "source": [
    "def get_rcvs(df, path):\n",
    "    return (\n",
    "        df\n",
    "        .filter(F.col(path + '.id') == 'http://identifiers.org/clinvar')\n",
    "        .withColumn('id', F.element_at(F.split(F.col(path + '.url'), '/'), -1))\n",
    "        .select('id')\n",
    "        .toPandas().iloc[:,0].drop_duplicates()\n",
    "    )\n",
    "eva_rcvs_1 = get_rcvs(df, 'evidence.gene2variant.provenance_type.database.dbxref')\n",
    "eva_rcvs_2 = get_rcvs(df, 'evidence.variant2disease.provenance_type.database.dbxref')"
   ]
  },
  {
   "cell_type": "code",
   "execution_count": 53,
   "metadata": {},
   "outputs": [
    {
     "data": {
      "text/plain": [
       "0         RCV000007792\n",
       "1         RCV000186552\n",
       "2         RCV000009594\n",
       "3         RCV000133591\n",
       "4         RCV000200158\n",
       "              ...     \n",
       "116900    RCV000736266\n",
       "116901    RCV000736267\n",
       "116902    RCV000736269\n",
       "116903    RCV000815476\n",
       "116904    RCV000010376\n",
       "Name: id, Length: 99856, dtype: object"
      ]
     },
     "execution_count": 53,
     "metadata": {},
     "output_type": "execute_result"
    }
   ],
   "source": [
    "eva_rcvs_1"
   ]
  },
  {
   "cell_type": "markdown",
   "metadata": {},
   "source": [
    "### ClinVar"
   ]
  },
  {
   "cell_type": "code",
   "execution_count": 27,
   "metadata": {},
   "outputs": [
    {
     "name": "stdout",
     "output_type": "stream",
     "text": [
      "--2020-06-19 13:07:51--  https://ftp.ncbi.nlm.nih.gov/pub/clinvar/tab_delimited/archive/variant_summary_2020-06.txt.gz\n",
      "Resolving ftp.ncbi.nlm.nih.gov (ftp.ncbi.nlm.nih.gov)... 130.14.250.13, 2607:f220:41e:250::10\n",
      "Connecting to ftp.ncbi.nlm.nih.gov (ftp.ncbi.nlm.nih.gov)|130.14.250.13|:443... connected.\n",
      "HTTP request sent, awaiting response... 200 OK\n",
      "Length: 56326157 (54M) [application/x-gzip]\n",
      "Saving to: ‘/tmp/variant_summary_2020-06.txt.gz.1’\n",
      "\n",
      "variant_summary_202 100%[===================>]  53.72M  6.93MB/s    in 9.8s    \n",
      "\n",
      "2020-06-19 13:08:01 (5.49 MB/s) - ‘/tmp/variant_summary_2020-06.txt.gz.1’ saved [56326157/56326157]\n",
      "\n"
     ]
    }
   ],
   "source": [
    "# Download variant_summary, not submission_summary since this contains submission records\n",
    "# with \"SCV\" accessions as opposed to \"RCV\" accessions for top-level records\n",
    "!wget -P /tmp https://ftp.ncbi.nlm.nih.gov/pub/clinvar/tab_delimited/archive/variant_summary_2020-06.txt.gz"
   ]
  },
  {
   "cell_type": "code",
   "execution_count": 82,
   "metadata": {},
   "outputs": [
    {
     "name": "stderr",
     "output_type": "stream",
     "text": [
      "/opt/conda/lib/python3.7/site-packages/IPython/core/interactiveshell.py:3063: DtypeWarning: Columns (18) have mixed types.Specify dtype option on import or set low_memory=False.\n",
      "  interactivity=interactivity, compiler=compiler, result=result)\n"
     ]
    },
    {
     "data": {
      "text/html": [
       "<div>\n",
       "<style scoped>\n",
       "    .dataframe tbody tr th:only-of-type {\n",
       "        vertical-align: middle;\n",
       "    }\n",
       "\n",
       "    .dataframe tbody tr th {\n",
       "        vertical-align: top;\n",
       "    }\n",
       "\n",
       "    .dataframe thead th {\n",
       "        text-align: right;\n",
       "    }\n",
       "</style>\n",
       "<table border=\"1\" class=\"dataframe\">\n",
       "  <thead>\n",
       "    <tr style=\"text-align: right;\">\n",
       "      <th></th>\n",
       "      <th>#AlleleID</th>\n",
       "      <th>Type</th>\n",
       "      <th>Name</th>\n",
       "      <th>GeneID</th>\n",
       "      <th>GeneSymbol</th>\n",
       "      <th>HGNC_ID</th>\n",
       "      <th>ClinicalSignificance</th>\n",
       "      <th>ClinSigSimple</th>\n",
       "      <th>LastEvaluated</th>\n",
       "      <th>RS# (dbSNP)</th>\n",
       "      <th>...</th>\n",
       "      <th>ReferenceAllele</th>\n",
       "      <th>AlternateAllele</th>\n",
       "      <th>Cytogenetic</th>\n",
       "      <th>ReviewStatus</th>\n",
       "      <th>NumberSubmitters</th>\n",
       "      <th>Guidelines</th>\n",
       "      <th>TestedInGTR</th>\n",
       "      <th>OtherIDs</th>\n",
       "      <th>SubmitterCategories</th>\n",
       "      <th>VariationID</th>\n",
       "    </tr>\n",
       "  </thead>\n",
       "  <tbody>\n",
       "    <tr>\n",
       "      <th>0</th>\n",
       "      <td>633632</td>\n",
       "      <td>single nucleotide variant</td>\n",
       "      <td>NM_000112.3(SLC26A2):c.892C&gt;A (p.His298Asn)</td>\n",
       "      <td>1836</td>\n",
       "      <td>SLC26A2</td>\n",
       "      <td>HGNC:10994</td>\n",
       "      <td>Uncertain significance</td>\n",
       "      <td>0</td>\n",
       "      <td>Dec 14, 2018</td>\n",
       "      <td>-1</td>\n",
       "      <td>...</td>\n",
       "      <td>C</td>\n",
       "      <td>A</td>\n",
       "      <td>5q32</td>\n",
       "      <td>criteria provided, single submitter</td>\n",
       "      <td>1</td>\n",
       "      <td>NaN</td>\n",
       "      <td>N</td>\n",
       "      <td>-</td>\n",
       "      <td>2</td>\n",
       "      <td>651753</td>\n",
       "    </tr>\n",
       "    <tr>\n",
       "      <th>1</th>\n",
       "      <td>633632</td>\n",
       "      <td>single nucleotide variant</td>\n",
       "      <td>NM_000112.3(SLC26A2):c.892C&gt;A (p.His298Asn)</td>\n",
       "      <td>1836</td>\n",
       "      <td>SLC26A2</td>\n",
       "      <td>HGNC:10994</td>\n",
       "      <td>Uncertain significance</td>\n",
       "      <td>0</td>\n",
       "      <td>Dec 14, 2018</td>\n",
       "      <td>-1</td>\n",
       "      <td>...</td>\n",
       "      <td>C</td>\n",
       "      <td>A</td>\n",
       "      <td>5q32</td>\n",
       "      <td>criteria provided, single submitter</td>\n",
       "      <td>1</td>\n",
       "      <td>NaN</td>\n",
       "      <td>N</td>\n",
       "      <td>-</td>\n",
       "      <td>2</td>\n",
       "      <td>651753</td>\n",
       "    </tr>\n",
       "    <tr>\n",
       "      <th>2</th>\n",
       "      <td>633633</td>\n",
       "      <td>single nucleotide variant</td>\n",
       "      <td>NM_000112.3(SLC26A2):c.1234G&gt;A (p.Val412Ile)</td>\n",
       "      <td>1836</td>\n",
       "      <td>SLC26A2</td>\n",
       "      <td>HGNC:10994</td>\n",
       "      <td>Likely benign</td>\n",
       "      <td>0</td>\n",
       "      <td>Dec 24, 2019</td>\n",
       "      <td>-1</td>\n",
       "      <td>...</td>\n",
       "      <td>G</td>\n",
       "      <td>A</td>\n",
       "      <td>5q32</td>\n",
       "      <td>criteria provided, single submitter</td>\n",
       "      <td>1</td>\n",
       "      <td>NaN</td>\n",
       "      <td>N</td>\n",
       "      <td>-</td>\n",
       "      <td>2</td>\n",
       "      <td>650535</td>\n",
       "    </tr>\n",
       "    <tr>\n",
       "      <th>3</th>\n",
       "      <td>633633</td>\n",
       "      <td>single nucleotide variant</td>\n",
       "      <td>NM_000112.3(SLC26A2):c.1234G&gt;A (p.Val412Ile)</td>\n",
       "      <td>1836</td>\n",
       "      <td>SLC26A2</td>\n",
       "      <td>HGNC:10994</td>\n",
       "      <td>Likely benign</td>\n",
       "      <td>0</td>\n",
       "      <td>Dec 24, 2019</td>\n",
       "      <td>-1</td>\n",
       "      <td>...</td>\n",
       "      <td>G</td>\n",
       "      <td>A</td>\n",
       "      <td>5q32</td>\n",
       "      <td>criteria provided, single submitter</td>\n",
       "      <td>1</td>\n",
       "      <td>NaN</td>\n",
       "      <td>N</td>\n",
       "      <td>-</td>\n",
       "      <td>2</td>\n",
       "      <td>650535</td>\n",
       "    </tr>\n",
       "    <tr>\n",
       "      <th>4</th>\n",
       "      <td>633634</td>\n",
       "      <td>single nucleotide variant</td>\n",
       "      <td>NM_000112.3(SLC26A2):c.2164T&gt;C (p.Ser722Pro)</td>\n",
       "      <td>1836</td>\n",
       "      <td>SLC26A2</td>\n",
       "      <td>HGNC:10994</td>\n",
       "      <td>Uncertain significance</td>\n",
       "      <td>0</td>\n",
       "      <td>Sep 12, 2018</td>\n",
       "      <td>-1</td>\n",
       "      <td>...</td>\n",
       "      <td>T</td>\n",
       "      <td>C</td>\n",
       "      <td>5q32</td>\n",
       "      <td>criteria provided, single submitter</td>\n",
       "      <td>1</td>\n",
       "      <td>NaN</td>\n",
       "      <td>N</td>\n",
       "      <td>-</td>\n",
       "      <td>2</td>\n",
       "      <td>651134</td>\n",
       "    </tr>\n",
       "  </tbody>\n",
       "</table>\n",
       "<p>5 rows × 31 columns</p>\n",
       "</div>"
      ],
      "text/plain": [
       "   #AlleleID                       Type  \\\n",
       "0     633632  single nucleotide variant   \n",
       "1     633632  single nucleotide variant   \n",
       "2     633633  single nucleotide variant   \n",
       "3     633633  single nucleotide variant   \n",
       "4     633634  single nucleotide variant   \n",
       "\n",
       "                                           Name  GeneID GeneSymbol  \\\n",
       "0   NM_000112.3(SLC26A2):c.892C>A (p.His298Asn)    1836    SLC26A2   \n",
       "1   NM_000112.3(SLC26A2):c.892C>A (p.His298Asn)    1836    SLC26A2   \n",
       "2  NM_000112.3(SLC26A2):c.1234G>A (p.Val412Ile)    1836    SLC26A2   \n",
       "3  NM_000112.3(SLC26A2):c.1234G>A (p.Val412Ile)    1836    SLC26A2   \n",
       "4  NM_000112.3(SLC26A2):c.2164T>C (p.Ser722Pro)    1836    SLC26A2   \n",
       "\n",
       "      HGNC_ID    ClinicalSignificance  ClinSigSimple LastEvaluated  \\\n",
       "0  HGNC:10994  Uncertain significance              0  Dec 14, 2018   \n",
       "1  HGNC:10994  Uncertain significance              0  Dec 14, 2018   \n",
       "2  HGNC:10994           Likely benign              0  Dec 24, 2019   \n",
       "3  HGNC:10994           Likely benign              0  Dec 24, 2019   \n",
       "4  HGNC:10994  Uncertain significance              0  Sep 12, 2018   \n",
       "\n",
       "   RS# (dbSNP)  ... ReferenceAllele AlternateAllele Cytogenetic  \\\n",
       "0           -1  ...               C               A        5q32   \n",
       "1           -1  ...               C               A        5q32   \n",
       "2           -1  ...               G               A        5q32   \n",
       "3           -1  ...               G               A        5q32   \n",
       "4           -1  ...               T               C        5q32   \n",
       "\n",
       "                          ReviewStatus NumberSubmitters Guidelines  \\\n",
       "0  criteria provided, single submitter                1        NaN   \n",
       "1  criteria provided, single submitter                1        NaN   \n",
       "2  criteria provided, single submitter                1        NaN   \n",
       "3  criteria provided, single submitter                1        NaN   \n",
       "4  criteria provided, single submitter                1        NaN   \n",
       "\n",
       "  TestedInGTR OtherIDs SubmitterCategories  VariationID  \n",
       "0           N        -                   2       651753  \n",
       "1           N        -                   2       651753  \n",
       "2           N        -                   2       650535  \n",
       "3           N        -                   2       650535  \n",
       "4           N        -                   2       651134  \n",
       "\n",
       "[5 rows x 31 columns]"
      ]
     },
     "execution_count": 82,
     "metadata": {},
     "output_type": "execute_result"
    }
   ],
   "source": [
    "dfvs = pd.read_csv('/tmp/variant_summary_2020-06.txt.gz', sep='\\t')\n",
    "dfvs.head()"
   ]
  },
  {
   "cell_type": "code",
   "execution_count": 48,
   "metadata": {},
   "outputs": [
    {
     "name": "stdout",
     "output_type": "stream",
     "text": [
      "<class 'pandas.core.frame.DataFrame'>\n",
      "RangeIndex: 1539560 entries, 0 to 1539559\n",
      "Data columns (total 31 columns):\n",
      " #   Column                Non-Null Count    Dtype \n",
      "---  ------                --------------    ----- \n",
      " 0   #AlleleID             1539560 non-null  int64 \n",
      " 1   Type                  1539560 non-null  object\n",
      " 2   Name                  1537466 non-null  object\n",
      " 3   GeneID                1539560 non-null  int64 \n",
      " 4   GeneSymbol            1539560 non-null  object\n",
      " 5   HGNC_ID               1539560 non-null  object\n",
      " 6   ClinicalSignificance  1539560 non-null  object\n",
      " 7   ClinSigSimple         1539560 non-null  int64 \n",
      " 8   LastEvaluated         1539560 non-null  object\n",
      " 9   RS# (dbSNP)           1539560 non-null  int64 \n",
      " 10  nsv/esv (dbVar)       1539560 non-null  object\n",
      " 11  RCVaccession          1539560 non-null  object\n",
      " 12  PhenotypeIDS          1539560 non-null  object\n",
      " 13  PhenotypeList         1539560 non-null  object\n",
      " 14  Origin                1539560 non-null  object\n",
      " 15  OriginSimple          1539560 non-null  object\n",
      " 16  Assembly              1534660 non-null  object\n",
      " 17  ChromosomeAccession   1539560 non-null  object\n",
      " 18  Chromosome            1539560 non-null  object\n",
      " 19  Start                 1539560 non-null  int64 \n",
      " 20  Stop                  1539560 non-null  int64 \n",
      " 21  ReferenceAllele       1539560 non-null  object\n",
      " 22  AlternateAllele       1539560 non-null  object\n",
      " 23  Cytogenetic           1539560 non-null  object\n",
      " 24  ReviewStatus          1539560 non-null  object\n",
      " 25  NumberSubmitters      1539560 non-null  int64 \n",
      " 26  Guidelines            204082 non-null   object\n",
      " 27  TestedInGTR           1539560 non-null  object\n",
      " 28  OtherIDs              1539560 non-null  object\n",
      " 29  SubmitterCategories   1539560 non-null  int64 \n",
      " 30  VariationID           1539560 non-null  int64 \n",
      "dtypes: int64(9), object(22)\n",
      "memory usage: 364.1+ MB\n"
     ]
    }
   ],
   "source": [
    "dfvs.info()"
   ]
  },
  {
   "cell_type": "code",
   "execution_count": 69,
   "metadata": {},
   "outputs": [
    {
     "data": {
      "text/plain": [
       "0                 None\n",
       "1              affects\n",
       "2          association\n",
       "3           protective\n",
       "4        drug response\n",
       "5    likely pathogenic\n",
       "6           pathogenic\n",
       "Name: clinical_significance, dtype: object"
      ]
     },
     "execution_count": 69,
     "metadata": {},
     "output_type": "execute_result"
    }
   ],
   "source": [
    "csigs"
   ]
  },
  {
   "cell_type": "code",
   "execution_count": 70,
   "metadata": {},
   "outputs": [
    {
     "data": {
      "text/plain": [
       "Pathogenic, Affects                                              25\n",
       "Benign, other                                                    25\n",
       "Likely benign, other                                             28\n",
       "Conflicting interpretations of pathogenicity, risk factor        30\n",
       "Conflicting interpretations of pathogenicity, other              36\n",
       "Pathogenic, drug response                                        53\n",
       "Pathogenic, risk factor                                          79\n",
       "protective                                                       84\n",
       "Pathogenic, other                                               202\n",
       "Affects                                                         270\n",
       "conflicting data from submitters                                454\n",
       "association                                                     472\n",
       "risk factor                                                     987\n",
       "no interpretation for the single variant                       1222\n",
       "drug response                                                  3989\n",
       "other                                                          4371\n",
       "Pathogenic/Likely pathogenic                                  13046\n",
       "not provided                                                  23680\n",
       "Benign/Likely benign                                          38012\n",
       "Likely pathogenic                                             70985\n",
       "Conflicting interpretations of pathogenicity                  80781\n",
       "Pathogenic                                                   177449\n",
       "Benign                                                       211722\n",
       "Likely benign                                                305535\n",
       "Uncertain significance                                       605772\n",
       "Name: ClinicalSignificance, dtype: int64"
      ]
     },
     "execution_count": 70,
     "metadata": {},
     "output_type": "execute_result"
    }
   ],
   "source": [
    "dfvs['ClinicalSignificance'].value_counts().sort_values().tail(25)"
   ]
  },
  {
   "cell_type": "code",
   "execution_count": 71,
   "metadata": {},
   "outputs": [
    {
     "data": {
      "text/plain": [
       "False    1277510\n",
       "True      262050\n",
       "Name: accept, dtype: int64"
      ]
     },
     "execution_count": 71,
     "metadata": {},
     "output_type": "execute_result"
    }
   ],
   "source": [
    "def accept_cs(cs):\n",
    "    if 'conflicting' in cs:\n",
    "        return False\n",
    "    if 'pathogenic' in cs:\n",
    "        return True\n",
    "    if 'protective' in cs:\n",
    "        return True\n",
    "    if cs in csigs:\n",
    "        return True\n",
    "    return False\n",
    "    \n",
    "dfvs['accept'] = dfvs['ClinicalSignificance'].str.lower().apply(accept_cs)\n",
    "dfvs['accept'].value_counts()"
   ]
  },
  {
   "cell_type": "code",
   "execution_count": 73,
   "metadata": {},
   "outputs": [
    {
     "data": {
      "text/plain": [
       "Pathogenic                                     177449\n",
       "Likely pathogenic                               70985\n",
       "Pathogenic/Likely pathogenic                    13046\n",
       "Pathogenic, other                                 202\n",
       "protective                                         84\n",
       "Pathogenic, risk factor                            79\n",
       "Pathogenic, drug response                          53\n",
       "Pathogenic, Affects                                25\n",
       "Likely pathogenic, risk factor                     23\n",
       "Pathogenic/Likely pathogenic, drug response        18\n",
       "Likely pathogenic, drug response                   16\n",
       "Pathogenic/Likely pathogenic, other                14\n",
       "Pathogenic, protective                             12\n",
       "Pathogenic/Likely pathogenic, risk factor          12\n",
       "protective, risk factor                             9\n",
       "Pathogenic, association                             6\n",
       "Likely pathogenic, other                            4\n",
       "Pathogenic, drug response, other                    3\n",
       "Likely pathogenic, association                      2\n",
       "Likely pathogenic, Affects                          2\n",
       "drug response, protective, risk factor              2\n",
       "Likely pathogenic, other, risk factor               2\n",
       "Pathogenic, association, protective                 2\n",
       "Name: ClinicalSignificance, dtype: int64"
      ]
     },
     "execution_count": 73,
     "metadata": {},
     "output_type": "execute_result"
    }
   ],
   "source": [
    "dfvs[dfvs['accept']]['ClinicalSignificance'].value_counts()"
   ]
  },
  {
   "cell_type": "code",
   "execution_count": 49,
   "metadata": {},
   "outputs": [
    {
     "data": {
      "text/plain": [
       "0    RCV000807178;RCV000807178;RCV000807178;RCV0008...\n",
       "1    RCV000807178;RCV000807178;RCV000807178;RCV0008...\n",
       "2    RCV000805701;RCV000805701;RCV000805701;RCV0008...\n",
       "3    RCV000805701;RCV000805701;RCV000805701;RCV0008...\n",
       "4    RCV000806427;RCV000806427;RCV000806427;RCV0008...\n",
       "Name: RCVaccession, dtype: object"
      ]
     },
     "execution_count": 49,
     "metadata": {},
     "output_type": "execute_result"
    }
   ],
   "source": [
    "dfvs['RCVaccession'].head()"
   ]
  },
  {
   "cell_type": "code",
   "execution_count": 74,
   "metadata": {},
   "outputs": [
    {
     "data": {
      "text/plain": [
       "0         RCV000799345\n",
       "2         RCV000798536\n",
       "4         RCV000809513\n",
       "6         RCV000815237\n",
       "8         RCV000818305\n",
       "              ...     \n",
       "378757    RCV001171373\n",
       "378758    RCV001171376\n",
       "378759    RCV001171377\n",
       "378760    RCV001171379\n",
       "378762    RCV001171381\n",
       "Length: 179381, dtype: object"
      ]
     },
     "execution_count": 74,
     "metadata": {},
     "output_type": "execute_result"
    }
   ],
   "source": [
    "clinvar_rcvs = pd.Series([\n",
    "    v\n",
    "    for rv in dfvs[dfvs['accept']]['RCVaccession']\n",
    "    for v in rv.split(';')\n",
    "]).drop_duplicates()\n",
    "clinvar_rcvs"
   ]
  },
  {
   "cell_type": "code",
   "execution_count": 75,
   "metadata": {},
   "outputs": [
    {
     "data": {
      "text/plain": [
       "(99856, 99856, 179381)"
      ]
     },
     "execution_count": 75,
     "metadata": {},
     "output_type": "execute_result"
    }
   ],
   "source": [
    "len(eva_rcvs_1), len(eva_rcvs_2), len(clinvar_rcvs)"
   ]
  },
  {
   "cell_type": "code",
   "execution_count": 76,
   "metadata": {},
   "outputs": [
    {
     "data": {
      "text/plain": [
       "99856"
      ]
     },
     "execution_count": 76,
     "metadata": {},
     "output_type": "execute_result"
    }
   ],
   "source": [
    "len(set(eva_rcvs_1) & set(eva_rcvs_2))"
   ]
  },
  {
   "cell_type": "code",
   "execution_count": 77,
   "metadata": {},
   "outputs": [
    {
     "data": {
      "text/plain": [
       "7339"
      ]
     },
     "execution_count": 77,
     "metadata": {},
     "output_type": "execute_result"
    }
   ],
   "source": [
    "len(set(eva_rcvs_1) - set(clinvar_rcvs))"
   ]
  },
  {
   "cell_type": "code",
   "execution_count": 79,
   "metadata": {},
   "outputs": [
    {
     "data": {
      "text/plain": [
       "86864"
      ]
     },
     "execution_count": 79,
     "metadata": {},
     "output_type": "execute_result"
    }
   ],
   "source": [
    "len(set(clinvar_rcvs) - set(eva_rcvs_1))"
   ]
  }
 ],
 "metadata": {
  "kernelspec": {
   "display_name": "Python 3",
   "language": "python",
   "name": "python3"
  },
  "language_info": {
   "codemirror_mode": {
    "name": "ipython",
    "version": 3
   },
   "file_extension": ".py",
   "mimetype": "text/x-python",
   "name": "python",
   "nbconvert_exporter": "python",
   "pygments_lexer": "ipython3",
   "version": "3.7.6"
  }
 },
 "nbformat": 4,
 "nbformat_minor": 4
}
